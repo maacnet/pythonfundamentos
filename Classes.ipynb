{
 "cells": [
  {
   "cell_type": "code",
   "execution_count": 3,
   "metadata": {},
   "outputs": [],
   "source": [
    "# Declarando um classe\n",
    "class Cachorro:\n",
    "    \"\"\"Uma modelagem simples de um cachorro.\"\"\"\n",
    "    def __init__(self, nome, idade):\n",
    "        \"\"\"Cosntrutor da classe para inicializar os atributos.\"\"\"\n",
    "        self.nome = nome\n",
    "        self.idade = idade\n",
    "    def sentar(self):\n",
    "        \"\"\"simula um cachorro sentando em resposta a um comando.\"\"\"\n",
    "        print(f\"{self.nome} esta sentado.\")\n",
    "    def roll_over(self):\n",
    "        \"\"\"simula um cachorro rolando em resposta a um comando.\"\"\"\n",
    "        print(f\"{self.nome} Cachorro rolou!\")\n",
    "    def FixaEtaria(self):\n",
    "        if self.idade < 2:\n",
    "            print(f\"{self.nome} é um filhote.\")\n",
    "        elif self.idade < 8:\n",
    "            print(f\"{self.nome} é um adulto.\")\n",
    "        else:\n",
    "            print(f\"{self.nome} é um idoso.\")\n"
   ]
  },
  {
   "cell_type": "code",
   "execution_count": 4,
   "metadata": {},
   "outputs": [
    {
     "name": "stdout",
     "output_type": "stream",
     "text": [
      "Pitsburgo é um adulto.\n",
      "Pitsburgo esta sentado.\n",
      "Pitsburgo Cachorro rolou!\n"
     ]
    }
   ],
   "source": [
    "# instanciando um objeto da classe Cachorro\n",
    "meu_cachorro = Cachorro('Pitsburgo', 6)\n",
    "meu_cachorro.FixaEtaria()\n",
    "meu_cachorro.sentar()\n",
    "meu_cachorro.roll_over()\n"
   ]
  },
  {
   "cell_type": "code",
   "execution_count": 5,
   "metadata": {},
   "outputs": [
    {
     "name": "stdout",
     "output_type": "stream",
     "text": [
      "Pitsburgo é um adulto.\n",
      "Rex é um adulto.\n",
      "Luna é um idoso.\n",
      "Pitsburgo esta sentado.\n",
      "Rex Cachorro rolou!\n",
      "Luna esta sentado.\n",
      "Luna Cachorro rolou!\n"
     ]
    }
   ],
   "source": [
    "#Criando multiplas instancias\n",
    "cachorro1 = Cachorro('Pitsburgo', 6)\n",
    "cachorro2 = Cachorro('Rex', 2)\n",
    "cachorro3 = Cachorro('Luna', 8)\n",
    "cachorro1.FixaEtaria()\n",
    "cachorro2.FixaEtaria()\n",
    "cachorro3.FixaEtaria()\n",
    "cachorro1.sentar()\n",
    "cachorro2.roll_over()\n",
    "cachorro3.sentar()\n",
    "cachorro3.roll_over()"
   ]
  },
  {
   "cell_type": "code",
   "execution_count": 18,
   "metadata": {},
   "outputs": [],
   "source": [
    "# definindo um valor default para um atributo\n",
    "class carro:\n",
    "    def __init__(self, marca, modelo, ano):\n",
    "        self.marca = marca\n",
    "        self.modelo = modelo\n",
    "        self.ano = ano\n",
    "        self.odometro = 0\n",
    "    def descricao(self):\n",
    "        print(f\"{self.marca} {self.modelo} {self.ano}\")\n",
    "    def leitura_odometro(self):\n",
    "        print(f\"Este carro tem {self.odometro} KM rodados.\")"
   ]
  },
  {
   "cell_type": "code",
   "execution_count": 19,
   "metadata": {},
   "outputs": [
    {
     "name": "stdout",
     "output_type": "stream",
     "text": [
      "Audi A4 2020\n",
      "Este carro tem 0 KM rodados.\n"
     ]
    }
   ],
   "source": [
    "meu_novo_carro = carro('Audi', 'A4', 2020)\n",
    "meu_novo_carro.descricao()\n",
    "meu_novo_carro.leitura_odometro()"
   ]
  },
  {
   "cell_type": "code",
   "execution_count": 20,
   "metadata": {},
   "outputs": [
    {
     "name": "stdout",
     "output_type": "stream",
     "text": [
      "Este carro tem 23 KM rodados.\n"
     ]
    }
   ],
   "source": [
    "# alterando o valor de um atributo\n",
    "meu_novo_carro.odometro = 23\n",
    "meu_novo_carro.leitura_odometro()\n"
   ]
  },
  {
   "cell_type": "code",
   "execution_count": 21,
   "metadata": {},
   "outputs": [],
   "source": [
    "# modificando o valor de um atributo com um metodo\n",
    "class carro:\n",
    "    def __init__(self, marca, modelo, ano):\n",
    "        self.marca = marca\n",
    "        self.modelo = modelo\n",
    "        self.ano = ano\n",
    "        self.odometro = 0\n",
    "    def descricao(self):\n",
    "        print(f\"{self.marca} {self.modelo} {self.ano}\")\n",
    "    def leitura_odometro(self):\n",
    "        print(f\"Este carro tem {self.odometro} KM rodados.\")\n",
    "    def atualiza_odometro(self, km):\n",
    "        if km >= self.odometro:\n",
    "            self.odometro = km\n",
    "        else:\n",
    "            print(\"Voce não pode diminuir o odometro.\")"
   ]
  },
  {
   "cell_type": "code",
   "execution_count": 22,
   "metadata": {},
   "outputs": [
    {
     "name": "stdout",
     "output_type": "stream",
     "text": [
      "Audi A4 2020\n",
      "Este carro tem 0 KM rodados.\n",
      "Este carro tem 1000 KM rodados.\n",
      "Voce não pode diminuir o odometro.\n",
      "Este carro tem 1000 KM rodados.\n"
     ]
    }
   ],
   "source": [
    "meu_novo_carro = carro('Audi', 'A4', 2020)\n",
    "meu_novo_carro.descricao()\n",
    "meu_novo_carro.leitura_odometro()\n",
    "meu_novo_carro.atualiza_odometro(1000)\n",
    "meu_novo_carro.leitura_odometro()\n",
    "meu_novo_carro.atualiza_odometro(100)\n",
    "meu_novo_carro.leitura_odometro()"
   ]
  }
 ],
 "metadata": {
  "kernelspec": {
   "display_name": "Python 3",
   "language": "python",
   "name": "python3"
  },
  "language_info": {
   "codemirror_mode": {
    "name": "ipython",
    "version": 3
   },
   "file_extension": ".py",
   "mimetype": "text/x-python",
   "name": "python",
   "nbconvert_exporter": "python",
   "pygments_lexer": "ipython3",
   "version": "3.13.0"
  }
 },
 "nbformat": 4,
 "nbformat_minor": 2
}
