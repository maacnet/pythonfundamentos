{
 "cells": [
  {
   "cell_type": "code",
   "execution_count": null,
   "metadata": {},
   "outputs": [],
   "source": [
    "# pesquisa.py\n",
    "class PesquisaAnonima:\n",
    "    \"\"\"Coleta respostas anônimas para uma pergunta de pesquisa.\"\"\"\n",
    "\n",
    "    def __init__(self, pergunta):\n",
    "        \"\"\"Armazena uma pergunta e prepara para armazenar respostas.\"\"\"\n",
    "        self.pergunta = pergunta\n",
    "        self.respostas = []\n",
    "\n",
    "    def mostrar_pergunta(self):\n",
    "        \"\"\"Mostra a pergunta da pesquisa.\"\"\"\n",
    "        print(self.pergunta)\n",
    "\n",
    "    def armazenar_resposta(self, nova_resposta):\n",
    "        \"\"\"Armazena uma única resposta para a pesquisa.\"\"\"\n",
    "        self.respostas.append(nova_resposta)\n",
    "\n",
    "    def mostrar_resultados(self):\n",
    "        \"\"\"Mostra todas as respostas que foram dadas.\"\"\"\n",
    "        print(\"Resultados da pesquisa:\")\n",
    "        for resposta in self.respostas:\n",
    "            print(f\"- {resposta}\")"
   ]
  },
  {
   "cell_type": "code",
   "execution_count": null,
   "metadata": {},
   "outputs": [
    {
     "name": "stdout",
     "output_type": "stream",
     "text": [
      "Qual idioma você aprendeu a falar primeiro?\n",
      "Digite 'q' a qualquer momento para sair.\n",
      "\n",
      "\n",
      "Obrigado a todos que participaram da pesquisa!\n",
      "Resultados da pesquisa:\n"
     ]
    }
   ],
   "source": [
    "# pesquisa_de_idiomas.py\n",
    "from pesquisa import PesquisaAnonima\n",
    "\n",
    "# Define uma pergunta e cria uma pesquisa.\n",
    "pergunta = \"Qual idioma você aprendeu a falar primeiro?\"\n",
    "pesquisa_idiomas = PesquisaAnonima(pergunta)\n",
    "\n",
    "# Mostra a pergunta e armazena as respostas.\n",
    "pesquisa_idiomas.mostrar_pergunta()\n",
    "print(\"Digite 'q' a qualquer momento para sair.\\n\")\n",
    "while True:\n",
    "    resposta = input(\"Idioma: \")\n",
    "    if resposta == 'q':\n",
    "        break\n",
    "    pesquisa_idiomas.armazenar_resposta(resposta)\n",
    "\n",
    "# Mostra os resultados da pesquisa.\n",
    "print(\"\\nObrigado a todos que participaram da pesquisa!\")\n",
    "pesquisa_idiomas.mostrar_resultados()"
   ]
  },
  {
   "cell_type": "code",
   "execution_count": 4,
   "metadata": {},
   "outputs": [],
   "source": [
    "# test_pesquisa_de_idiomas.py\n",
    "from pesquisa import PesquisaAnonima\n",
    "def test_pergunta():\n",
    "    pergunta = \"Qual idioma você aprendeu a falar primeiro?\"\n",
    "    pesquisa_idiomas = PesquisaAnonima(pergunta)\n",
    "    assert pesquisa_idiomas.pergunta == pergunta"
   ]
  }
 ],
 "metadata": {
  "kernelspec": {
   "display_name": "Python 3",
   "language": "python",
   "name": "python3"
  },
  "language_info": {
   "codemirror_mode": {
    "name": "ipython",
    "version": 3
   },
   "file_extension": ".py",
   "mimetype": "text/x-python",
   "name": "python",
   "nbconvert_exporter": "python",
   "pygments_lexer": "ipython3",
   "version": "3.13.0"
  }
 },
 "nbformat": 4,
 "nbformat_minor": 2
}
