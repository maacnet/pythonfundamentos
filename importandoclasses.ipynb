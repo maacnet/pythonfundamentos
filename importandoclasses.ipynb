{
 "cells": [
  {
   "cell_type": "code",
   "execution_count": 5,
   "metadata": {},
   "outputs": [],
   "source": [
    "# importando a classe carro do arquivo carro.py\n",
    "from carro import carro"
   ]
  },
  {
   "cell_type": "code",
   "execution_count": 8,
   "metadata": {},
   "outputs": [
    {
     "name": "stdout",
     "output_type": "stream",
     "text": [
      "Fusca VW 1970\n",
      "Este carro tem 0 KM rodados.\n",
      "Este carro tem 1000 KM rodados.\n",
      "Voce não pode diminuir o odometro.\n",
      "Este carro tem 1000 KM rodados.\n"
     ]
    }
   ],
   "source": [
    "# Utilizando o objeto carro\n",
    "meu_carro = carro(\"Fusca\", \"VW\", 1970)\n",
    "meu_carro.descricao()\n",
    "meu_carro.leitura_odometro()\n",
    "meu_carro.atualiza_odometro(1000)\n",
    "meu_carro.leitura_odometro()\n",
    "meu_carro.atualiza_odometro(100)\n",
    "meu_carro.leitura_odometro()"
   ]
  }
 ],
 "metadata": {
  "kernelspec": {
   "display_name": "Python 3",
   "language": "python",
   "name": "python3"
  },
  "language_info": {
   "codemirror_mode": {
    "name": "ipython",
    "version": 3
   },
   "file_extension": ".py",
   "mimetype": "text/x-python",
   "name": "python",
   "nbconvert_exporter": "python",
   "pygments_lexer": "ipython3",
   "version": "3.13.0"
  }
 },
 "nbformat": 4,
 "nbformat_minor": 2
}
