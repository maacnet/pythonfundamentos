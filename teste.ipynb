# Opção correta 1
bissextos = [ano for ano in range(1900, 2021, 1) if (ano % 400 == 0) or (ano % 4 == 0 and ano % 100 != 0)]

# Opção correta 2
bissextos = list(filter(lambda ano: (ano % 400 == 0) or (ano % 4 == 0 and ano % 100 != 0), range(1900, 2021)))