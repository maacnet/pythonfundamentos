{
 "cells": [
  {
   "cell_type": "code",
   "execution_count": null,
   "metadata": {},
   "outputs": [
    {
     "data": {
      "text/plain": [
       "20"
      ]
     },
     "execution_count": 1,
     "metadata": {},
     "output_type": "execute_result"
    }
   ],
   "source": [
    "# json.dumps escrever um arquivo json\n",
    "from pathlib import Path\n",
    "import json\n",
    "\n",
    "numeros = [2,3,5,7,11,13]\n",
    "path = Path('Numeros.json')\n",
    "conteudo = json.dumps(numeros)\n",
    "path.write_text(conteudo)"
   ]
  },
  {
   "cell_type": "code",
   "execution_count": 2,
   "metadata": {},
   "outputs": [
    {
     "name": "stdout",
     "output_type": "stream",
     "text": [
      "[2, 3, 5, 7, 11, 13]\n"
     ]
    }
   ],
   "source": [
    "# json.loads ler um arquivo json\n",
    "from pathlib import Path\n",
    "import json\n",
    "path = Path('Numeros.json')\n",
    "conteudo = path.read_text()\n",
    "numero = json.loads(conteudo)\n",
    "print(numero)"
   ]
  },
  {
   "cell_type": "code",
   "execution_count": 5,
   "metadata": {},
   "outputs": [
    {
     "name": "stdout",
     "output_type": "stream",
     "text": [
      "Usuário será lembrado, Marco Carvalho!\n"
     ]
    }
   ],
   "source": [
    "# Ler e salvar dados informados pelo usuário\n",
    "from pathlib import Path\n",
    "import json\n",
    "\n",
    "usuario = input(\"Informe o seu nome? \")\n",
    "path = Path('usuario.json')\n",
    "contents = json.dumps(usuario)\n",
    "path.write_text(contents)\n",
    "\n",
    "print(f\"Usuário será lembrado, {usuario}!\")"
   ]
  },
  {
   "cell_type": "code",
   "execution_count": 6,
   "metadata": {},
   "outputs": [
    {
     "name": "stdout",
     "output_type": "stream",
     "text": [
      "Bem vindo de volta, Marco Carvalho!\n"
     ]
    }
   ],
   "source": [
    "# Recuperar dados do usuário\n",
    "from pathlib import Path\n",
    "import json\n",
    "\n",
    "path = Path('usuario.json')\n",
    "contents = path.read_text()\n",
    "usuario = json.loads(contents)\n",
    "\n",
    "print(f\"Bem vindo de volta, {usuario}!\")"
   ]
  }
 ],
 "metadata": {
  "kernelspec": {
   "display_name": "Python 3",
   "language": "python",
   "name": "python3"
  },
  "language_info": {
   "codemirror_mode": {
    "name": "ipython",
    "version": 3
   },
   "file_extension": ".py",
   "mimetype": "text/x-python",
   "name": "python",
   "nbconvert_exporter": "python",
   "pygments_lexer": "ipython3",
   "version": "3.13.0"
  }
 },
 "nbformat": 4,
 "nbformat_minor": 2
}
