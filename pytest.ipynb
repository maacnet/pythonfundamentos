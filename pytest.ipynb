{
 "cells": [
  {
   "cell_type": "code",
   "execution_count": 3,
   "metadata": {},
   "outputs": [],
   "source": [
    "# atualizar o pip instalador de pacotes de terceiros\n",
    "# python -m pip install --upgrade pip\n",
    "# Instalar o pytest\n",
    "# python -m pip install --user pytest"
   ]
  },
  {
   "cell_type": "code",
   "execution_count": 4,
   "metadata": {},
   "outputs": [],
   "source": [
    "# nome_funcao.py\n",
    "def formatar_nome(nome,sobrenome):\n",
    "    nome_completo = f\"{nome} {sobrenome}\"\n",
    "    return nome_completo.title()"
   ]
  },
  {
   "cell_type": "code",
   "execution_count": 5,
   "metadata": {},
   "outputs": [
    {
     "name": "stdout",
     "output_type": "stream",
     "text": [
      "Pressione a letra q para sair\n",
      "Olá, Marco Carvalho!\n"
     ]
    }
   ],
   "source": [
    "# nomes.py\n",
    "from nome_funcao import formatar_nome\n",
    "print(\"Pressione a letra q para sair\")\n",
    "while True:\n",
    "    nome = input(\"Digite o seu nome: \")\n",
    "    if nome == 'q':\n",
    "        break\n",
    "    sobrenome = input(\"Digite o seu sobrenome: \")\n",
    "    if sobrenome == 'q':\n",
    "        break\n",
    "    nome_completo = formatar_nome(nome,sobrenome)\n",
    "    print(f\"Olá, {nome_completo}!\")"
   ]
  },
  {
   "cell_type": "code",
   "execution_count": 6,
   "metadata": {},
   "outputs": [],
   "source": [
    "# Escrevendo um teste unitário\n",
    "# test_nome_funcao.py\n",
    "from nome_funcao import formatar_nome\n",
    "def test_formatar_nome():\n",
    "    nome_completo = formatar_nome('Marco','Carvalho')\n",
    "    assert nome_completo == 'Marco Carvalho'"
   ]
  },
  {
   "cell_type": "code",
   "execution_count": 1,
   "metadata": {},
   "outputs": [],
   "source": [
    "# Quebrando o teste unitário\n",
    "# test_nome_funcao.py\n",
    "from nome_funcao import formatar_nome\n",
    "def test_formatar_nome():\n",
    "    nome_completo = formatar_nome('Marco','Carvalho')\n",
    "    assert nome_completo == 'Marco Carvalho'"
   ]
  },
  {
   "cell_type": "markdown",
   "metadata": {},
   "source": [
    "\n",
    "| Afirmação                        | Alegar                                      |\n",
    "|----------------------------------|---------------------------------------------|\n",
    "| assert a == b                    | Afirme que dois valores são iguais.         |\n",
    "| assert a != b                    | Afirme que dois valores não são iguais.     |\n",
    "| assert a                         | Afirmação que avalia para True.             |\n",
    "| assert not a                     | Afirmação que avalia para False.            |\n",
    "| assert elemento in lista         | Afirme que um elemento está em uma lista.   |\n",
    "| assert elemento not in lista     | Afirme que um elemento não está em uma lista.|"
   ]
  }
 ],
 "metadata": {
  "kernelspec": {
   "display_name": "Python 3",
   "language": "python",
   "name": "python3"
  },
  "language_info": {
   "codemirror_mode": {
    "name": "ipython",
    "version": 3
   },
   "file_extension": ".py",
   "mimetype": "text/x-python",
   "name": "python",
   "nbconvert_exporter": "python",
   "pygments_lexer": "ipython3",
   "version": "3.13.0"
  }
 },
 "nbformat": 4,
 "nbformat_minor": 2
}
