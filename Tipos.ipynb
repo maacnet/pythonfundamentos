{
 "cells": [
  {
   "cell_type": "code",
   "execution_count": 1,
   "metadata": {},
   "outputs": [
    {
     "name": "stdout",
     "output_type": "stream",
     "text": [
      "Original (int): 10, Tipo: <class 'int'>\n"
     ]
    }
   ],
   "source": [
    "# Tipos de dados em Python e suas conversões\n",
    "# Inteiro\n",
    "inteiro = 10\n",
    "print(f\"Original (int): {inteiro}, Tipo: {type(inteiro)}\")"
   ]
  },
  {
   "cell_type": "code",
   "execution_count": 3,
   "metadata": {},
   "outputs": [
    {
     "name": "stdout",
     "output_type": "stream",
     "text": [
      "Convertido para float: 10.0, Tipo: <class 'float'>\n"
     ]
    }
   ],
   "source": [
    "# Convertendo inteiro para float\n",
    "float_de_inteiro = float(inteiro)\n",
    "print(f\"Convertido para float: {float_de_inteiro}, Tipo: {type(float_de_inteiro)}\")"
   ]
  },
  {
   "cell_type": "code",
   "execution_count": 4,
   "metadata": {},
   "outputs": [
    {
     "name": "stdout",
     "output_type": "stream",
     "text": [
      "Original (float): 10.5, Tipo: <class 'float'>\n"
     ]
    }
   ],
   "source": [
    "\n",
    "# Float\n",
    "flutuante = 10.5\n",
    "print(f\"Original (float): {flutuante}, Tipo: {type(flutuante)}\")"
   ]
  },
  {
   "cell_type": "code",
   "execution_count": 5,
   "metadata": {},
   "outputs": [
    {
     "name": "stdout",
     "output_type": "stream",
     "text": [
      "Convertido para int: 10, Tipo: <class 'int'>\n"
     ]
    }
   ],
   "source": [
    "\n",
    "# Convertendo float para inteiro\n",
    "inteiro_de_flutuante = int(flutuante)\n",
    "print(f\"Convertido para int: {inteiro_de_flutuante}, Tipo: {type(inteiro_de_flutuante)}\")\n"
   ]
  },
  {
   "cell_type": "code",
   "execution_count": 6,
   "metadata": {},
   "outputs": [
    {
     "name": "stdout",
     "output_type": "stream",
     "text": [
      "Original (str): 123, Tipo: <class 'str'>\n"
     ]
    }
   ],
   "source": [
    "\n",
    "# String\n",
    "string = \"123\"\n",
    "print(f\"Original (str): {string}, Tipo: {type(string)}\")"
   ]
  },
  {
   "cell_type": "code",
   "execution_count": 7,
   "metadata": {},
   "outputs": [
    {
     "name": "stdout",
     "output_type": "stream",
     "text": [
      "Convertido para int: 123, Tipo: <class 'int'>\n"
     ]
    }
   ],
   "source": [
    "\n",
    "# Convertendo string para inteiro\n",
    "inteiro_de_string = int(string)\n",
    "print(f\"Convertido para int: {inteiro_de_string}, Tipo: {type(inteiro_de_string)}\")"
   ]
  },
  {
   "cell_type": "code",
   "execution_count": 8,
   "metadata": {},
   "outputs": [
    {
     "name": "stdout",
     "output_type": "stream",
     "text": [
      "Convertido para float: 123.0, Tipo: <class 'float'>\n"
     ]
    }
   ],
   "source": [
    "# Convertendo string para float\n",
    "float_de_string = float(string)\n",
    "print(f\"Convertido para float: {float_de_string}, Tipo: {type(float_de_string)}\")"
   ]
  },
  {
   "cell_type": "code",
   "execution_count": 9,
   "metadata": {},
   "outputs": [
    {
     "name": "stdout",
     "output_type": "stream",
     "text": [
      "Original (bool): True, Tipo: <class 'bool'>\n"
     ]
    }
   ],
   "source": [
    "# Booleano\n",
    "booleano = True\n",
    "print(f\"Original (bool): {booleano}, Tipo: {type(booleano)}\")"
   ]
  },
  {
   "cell_type": "code",
   "execution_count": 10,
   "metadata": {},
   "outputs": [
    {
     "name": "stdout",
     "output_type": "stream",
     "text": [
      "Convertido para int: 1, Tipo: <class 'int'>\n"
     ]
    }
   ],
   "source": [
    "# Convertendo booleano para inteiro\n",
    "inteiro_de_booleano = int(booleano)\n",
    "print(f\"Convertido para int: {inteiro_de_booleano}, Tipo: {type(inteiro_de_booleano)}\")"
   ]
  },
  {
   "cell_type": "code",
   "execution_count": 11,
   "metadata": {},
   "outputs": [
    {
     "name": "stdout",
     "output_type": "stream",
     "text": [
      "Convertido para str: True, Tipo: <class 'str'>\n"
     ]
    }
   ],
   "source": [
    "# Convertendo booleano para string\n",
    "string_de_booleano = str(booleano)\n",
    "print(f\"Convertido para str: {string_de_booleano}, Tipo: {type(string_de_booleano)}\")"
   ]
  },
  {
   "cell_type": "code",
   "execution_count": 12,
   "metadata": {},
   "outputs": [
    {
     "name": "stdout",
     "output_type": "stream",
     "text": [
      "Original (list): [1, 2, 3], Tipo: <class 'list'>\n"
     ]
    }
   ],
   "source": [
    "# Lista\n",
    "lista = [1, 2, 3]\n",
    "print(f\"Original (list): {lista}, Tipo: {type(lista)}\")"
   ]
  },
  {
   "cell_type": "code",
   "execution_count": 13,
   "metadata": {},
   "outputs": [
    {
     "name": "stdout",
     "output_type": "stream",
     "text": [
      "Convertido para str: [1, 2, 3], Tipo: <class 'str'>\n"
     ]
    }
   ],
   "source": [
    "# Convertendo lista para string\n",
    "string_de_lista = str(lista)\n",
    "print(f\"Convertido para str: {string_de_lista}, Tipo: {type(string_de_lista)}\")"
   ]
  },
  {
   "cell_type": "code",
   "execution_count": 14,
   "metadata": {},
   "outputs": [
    {
     "name": "stdout",
     "output_type": "stream",
     "text": [
      "Original (tuple): (1, 2, 3), Tipo: <class 'tuple'>\n"
     ]
    }
   ],
   "source": [
    "# Tupla\n",
    "tupla = (1, 2, 3)\n",
    "print(f\"Original (tuple): {tupla}, Tipo: {type(tupla)}\")"
   ]
  },
  {
   "cell_type": "code",
   "execution_count": 15,
   "metadata": {},
   "outputs": [
    {
     "name": "stdout",
     "output_type": "stream",
     "text": [
      "Convertido para list: [1, 2, 3], Tipo: <class 'list'>\n"
     ]
    }
   ],
   "source": [
    "# Convertendo tupla para lista\n",
    "lista_de_tupla = list(tupla)\n",
    "print(f\"Convertido para list: {lista_de_tupla}, Tipo: {type(lista_de_tupla)}\")"
   ]
  },
  {
   "cell_type": "code",
   "execution_count": 16,
   "metadata": {},
   "outputs": [
    {
     "name": "stdout",
     "output_type": "stream",
     "text": [
      "Original (dict): {'chave': 'valor'}, Tipo: <class 'dict'>\n"
     ]
    }
   ],
   "source": [
    "# Dicionário\n",
    "dicionario = {\"chave\": \"valor\"}\n",
    "print(f\"Original (dict): {dicionario}, Tipo: {type(dicionario)}\")"
   ]
  },
  {
   "cell_type": "code",
   "execution_count": 17,
   "metadata": {},
   "outputs": [
    {
     "name": "stdout",
     "output_type": "stream",
     "text": [
      "Convertido para str: {'chave': 'valor'}, Tipo: <class 'str'>\n"
     ]
    }
   ],
   "source": [
    "# Convertendo dicionário para string\n",
    "string_de_dicionario = str(dicionario)\n",
    "print(f\"Convertido para str: {string_de_dicionario}, Tipo: {type(string_de_dicionario)}\")"
   ]
  },
  {
   "cell_type": "code",
   "execution_count": 18,
   "metadata": {},
   "outputs": [
    {
     "name": "stdout",
     "output_type": "stream",
     "text": [
      "Original (set): {1, 2, 3}, Tipo: <class 'set'>\n"
     ]
    }
   ],
   "source": [
    "# Conjunto\n",
    "conjunto = {1, 2, 3}\n",
    "print(f\"Original (set): {conjunto}, Tipo: {type(conjunto)}\")"
   ]
  },
  {
   "cell_type": "code",
   "execution_count": 19,
   "metadata": {},
   "outputs": [
    {
     "name": "stdout",
     "output_type": "stream",
     "text": [
      "Convertido para list: [1, 2, 3], Tipo: <class 'list'>\n"
     ]
    }
   ],
   "source": [
    "# Convertendo conjunto para lista\n",
    "lista_de_conjunto = list(conjunto)\n",
    "print(f\"Convertido para list: {lista_de_conjunto}, Tipo: {type(lista_de_conjunto)}\")"
   ]
  }
 ],
 "metadata": {
  "kernelspec": {
   "display_name": "Python 3",
   "language": "python",
   "name": "python3"
  },
  "language_info": {
   "codemirror_mode": {
    "name": "ipython",
    "version": 3
   },
   "file_extension": ".py",
   "mimetype": "text/x-python",
   "name": "python",
   "nbconvert_exporter": "python",
   "pygments_lexer": "ipython3",
   "version": "3.13.0"
  }
 },
 "nbformat": 4,
 "nbformat_minor": 2
}
