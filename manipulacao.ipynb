{
 "cells": [
  {
   "cell_type": "markdown",
   "metadata": {},
   "source": [
    "# Manipulação de arrays Numpy"
   ]
  },
  {
   "cell_type": "markdown",
   "metadata": {},
   "source": [
    "### Importando o NumPy"
   ]
  },
  {
   "cell_type": "code",
   "execution_count": 1,
   "metadata": {
    "collapsed": true
   },
   "outputs": [],
   "source": [
    "# Importando o NumPy\n",
    "import numpy as np"
   ]
  },
  {
   "cell_type": "markdown",
   "metadata": {},
   "source": [
    "### Alterando, adicionando e removendo elementos"
   ]
  },
  {
   "cell_type": "code",
   "execution_count": 2,
   "metadata": {
    "collapsed": true
   },
   "outputs": [
    {
     "data": {
      "text/plain": [
       "array([135, 148, 132,  62,   5, 183,  67,  45,  48, 134,  31,  21],\n",
       "      dtype=int32)"
      ]
     },
     "execution_count": 2,
     "metadata": {},
     "output_type": "execute_result"
    }
   ],
   "source": [
    "# Criando um array de 1 dimensão\n",
    "a1D = np.random.randint(1,200, 12)\n",
    "a1D"
   ]
  },
  {
   "cell_type": "code",
   "execution_count": 3,
   "metadata": {
    "collapsed": true
   },
   "outputs": [
    {
     "data": {
      "text/plain": [
       "array([[ 29,  73,  28, 160],\n",
       "       [169,  77,  47, 127],\n",
       "       [ 34,  90, 121, 193]], dtype=int32)"
      ]
     },
     "execution_count": 3,
     "metadata": {},
     "output_type": "execute_result"
    }
   ],
   "source": [
    "# Criando um array de 2 dimensões\n",
    "a2D = np.random.randint(1,200, (3,4))\n",
    "a2D"
   ]
  },
  {
   "cell_type": "code",
   "execution_count": 4,
   "metadata": {
    "collapsed": true
   },
   "outputs": [
    {
     "data": {
      "text/plain": [
       "array([[[159,  66,  20,  41,  34, 169],\n",
       "        [ 51,  23,  73,  31, 119,  58],\n",
       "        [146, 159, 147,  35, 168,  70]],\n",
       "\n",
       "       [[  6, 171,  22, 166,  88, 145],\n",
       "        [127, 148, 157,  67, 147,  49],\n",
       "        [  5, 106,  51,  80,  49,  31]]], dtype=int32)"
      ]
     },
     "execution_count": 4,
     "metadata": {},
     "output_type": "execute_result"
    }
   ],
   "source": [
    "# Criando um array de 3 dimensões\n",
    "a3D = np.random.randint(1,200, (2,3,6)) # 2 páginas/faces, 3 linhas, 6 colunas\n",
    "a3D"
   ]
  },
  {
   "cell_type": "code",
   "execution_count": 5,
   "metadata": {
    "collapsed": true
   },
   "outputs": [
    {
     "data": {
      "text/plain": [
       "array([ -1, 148, 132,  62,   5, 183,  67,  45,  48, 134,  31,  21],\n",
       "      dtype=int32)"
      ]
     },
     "execution_count": 5,
     "metadata": {},
     "output_type": "execute_result"
    }
   ],
   "source": [
    "# Alterando o elemento do índice 0\n",
    "a1D[0] = -1\n",
    "a1D"
   ]
  },
  {
   "cell_type": "code",
   "execution_count": 6,
   "metadata": {
    "collapsed": true
   },
   "outputs": [
    {
     "data": {
      "text/plain": [
       "array([[ 29,  73,  28, 160],\n",
       "       [169,  77,  -1, 127],\n",
       "       [ 34,  90, 121, 193]], dtype=int32)"
      ]
     },
     "execution_count": 6,
     "metadata": {},
     "output_type": "execute_result"
    }
   ],
   "source": [
    "# Alterando o elemento da linha 1, coluna 2\n",
    "a2D[1][2] = -1\n",
    "a2D"
   ]
  },
  {
   "cell_type": "code",
   "execution_count": 8,
   "metadata": {
    "collapsed": true
   },
   "outputs": [
    {
     "data": {
      "text/plain": [
       "array([[[159,  66,  20,  41,  34, 169],\n",
       "        [ 51,  23,  73,  31, 119,  58],\n",
       "        [146, 159, 147,  35, 168,  70]],\n",
       "\n",
       "       [[  6, 171,  22, 166,  88, 145],\n",
       "        [127, 148, 157,  67, 147,  49],\n",
       "        [  5, 106,  51,  80,  -1,  31]]], dtype=int32)"
      ]
     },
     "execution_count": 8,
     "metadata": {},
     "output_type": "execute_result"
    }
   ],
   "source": [
    "# Alterando o elemento da face 1, linha 2, coluna 4\n",
    "a3D[1][2][4] = -1\n",
    "a3D"
   ]
  },
  {
   "cell_type": "code",
   "execution_count": 9,
   "metadata": {
    "collapsed": true
   },
   "outputs": [
    {
     "data": {
      "text/plain": [
       "array([ -1, 148, 132,  62,   5, 183,  67,  45,  48, 134,  31,  21, 100,\n",
       "       130])"
      ]
     },
     "execution_count": 9,
     "metadata": {},
     "output_type": "execute_result"
    }
   ],
   "source": [
    "# Retorna array com elementos adicionados no final\n",
    "a1D_modificado = np.append(a1D, [100, 130])\n",
    "a1D_modificado"
   ]
  },
  {
   "cell_type": "code",
   "execution_count": 10,
   "metadata": {
    "collapsed": true
   },
   "outputs": [
    {
     "data": {
      "text/plain": [
       "array([ -1, 148, 132,  62,   5, 183,  67,  45,  48, 134,  31,  21],\n",
       "      dtype=int32)"
      ]
     },
     "execution_count": 10,
     "metadata": {},
     "output_type": "execute_result"
    }
   ],
   "source": [
    "a1D # a1D não foi modificado"
   ]
  },
  {
   "cell_type": "code",
   "execution_count": 11,
   "metadata": {
    "collapsed": true
   },
   "outputs": [
    {
     "data": {
      "text/plain": [
       "array([ 29,  73,  28, 160, 169,  77,  -1, 127,  34,  90, 121, 193, 100,\n",
       "       130])"
      ]
     },
     "execution_count": 11,
     "metadata": {},
     "output_type": "execute_result"
    }
   ],
   "source": [
    "a2D_modificado = np.append(a2D, [100, 130]) # Lineariza a2D e insere os elementos no final\n",
    "a2D_modificado"
   ]
  },
  {
   "cell_type": "code",
   "execution_count": 12,
   "metadata": {
    "collapsed": true
   },
   "outputs": [
    {
     "data": {
      "text/plain": [
       "array([[ 29,  73,  28, 160],\n",
       "       [169,  77,  -1, 127],\n",
       "       [ 34,  90, 121, 193]], dtype=int32)"
      ]
     },
     "execution_count": 12,
     "metadata": {},
     "output_type": "execute_result"
    }
   ],
   "source": [
    "a2D # a2D não foi modificado"
   ]
  },
  {
   "cell_type": "code",
   "execution_count": 13,
   "metadata": {
    "collapsed": true
   },
   "outputs": [
    {
     "data": {
      "text/plain": [
       "array([159,  66,  20,  41,  34, 169,  51,  23,  73,  31, 119,  58, 146,\n",
       "       159, 147,  35, 168,  70,   6, 171,  22, 166,  88, 145, 127, 148,\n",
       "       157,  67, 147,  49,   5, 106,  51,  80,  -1,  31, 100, 130])"
      ]
     },
     "execution_count": 13,
     "metadata": {},
     "output_type": "execute_result"
    }
   ],
   "source": [
    "a3D_modificado = np.append(a3D, [100, 130]) # Lineariza a3D e insere os elementos no final\n",
    "a3D_modificado"
   ]
  },
  {
   "cell_type": "code",
   "execution_count": 14,
   "metadata": {
    "collapsed": true
   },
   "outputs": [
    {
     "data": {
      "text/plain": [
       "array([[[159,  66,  20,  41,  34, 169],\n",
       "        [ 51,  23,  73,  31, 119,  58],\n",
       "        [146, 159, 147,  35, 168,  70]],\n",
       "\n",
       "       [[  6, 171,  22, 166,  88, 145],\n",
       "        [127, 148, 157,  67, 147,  49],\n",
       "        [  5, 106,  51,  80,  -1,  31]]], dtype=int32)"
      ]
     },
     "execution_count": 14,
     "metadata": {},
     "output_type": "execute_result"
    }
   ],
   "source": [
    "a3D # a3D não foi modificado"
   ]
  },
  {
   "cell_type": "code",
   "execution_count": 15,
   "metadata": {
    "collapsed": true
   },
   "outputs": [
    {
     "name": "stdout",
     "output_type": "stream",
     "text": [
      "[ -1 148 132  62   5 183  67  45  48 134  31  21 100 130]\n",
      "[132   5 183  67  45  48 134  31  21 100 130]\n"
     ]
    }
   ],
   "source": [
    "a1D_modificado2 = np.delete(a1D_modificado, [0, 1, 3])\n",
    "print(a1D_modificado)\n",
    "print(a1D_modificado2)"
   ]
  },
  {
   "cell_type": "markdown",
   "metadata": {},
   "source": [
    "### Comparação entre arrays"
   ]
  },
  {
   "cell_type": "code",
   "execution_count": 16,
   "metadata": {
    "collapsed": true
   },
   "outputs": [
    {
     "data": {
      "text/plain": [
       "array([False,  True, False,  True,  True])"
      ]
     },
     "execution_count": 16,
     "metadata": {},
     "output_type": "execute_result"
    }
   ],
   "source": [
    "a1D = np.array([1, 2, 3, 4, 5])\n",
    "b1D = np.array([3, 2, 1, 4, 5])\n",
    "a1D == b1D # Comparação elemento a elemento"
   ]
  },
  {
   "cell_type": "code",
   "execution_count": 17,
   "metadata": {
    "collapsed": true
   },
   "outputs": [
    {
     "data": {
      "text/plain": [
       "array([3, 7, 7, 3, 2, 3, 5, 1, 7, 3, 7, 2, 2, 3, 9, 4, 9, 5, 3, 8],\n",
       "      dtype=int32)"
      ]
     },
     "execution_count": 17,
     "metadata": {},
     "output_type": "execute_result"
    }
   ],
   "source": [
    "c1D = np.random.randint(1,10,20)\n",
    "c1D"
   ]
  },
  {
   "cell_type": "code",
   "execution_count": 18,
   "metadata": {
    "collapsed": true
   },
   "outputs": [
    {
     "data": {
      "text/plain": [
       "array([False, False, False, False, False, False,  True, False, False,\n",
       "       False, False, False, False, False, False, False, False,  True,\n",
       "       False, False])"
      ]
     },
     "execution_count": 18,
     "metadata": {},
     "output_type": "execute_result"
    }
   ],
   "source": [
    "c1D == 5"
   ]
  },
  {
   "cell_type": "code",
   "execution_count": 20,
   "metadata": {
    "collapsed": true
   },
   "outputs": [
    {
     "data": {
      "text/plain": [
       "array([5, 5], dtype=int32)"
      ]
     },
     "execution_count": 20,
     "metadata": {},
     "output_type": "execute_result"
    }
   ],
   "source": [
    "c1D[c1D == 5]"
   ]
  },
  {
   "cell_type": "markdown",
   "metadata": {},
   "source": [
    "### Operações entre arrays e escalares"
   ]
  },
  {
   "cell_type": "code",
   "execution_count": 21,
   "metadata": {
    "collapsed": true
   },
   "outputs": [
    {
     "data": {
      "text/plain": [
       "array([ 1,  2,  3,  4,  5,  6,  7,  8,  9, 10])"
      ]
     },
     "execution_count": 21,
     "metadata": {},
     "output_type": "execute_result"
    }
   ],
   "source": [
    "a1D = np.arange(1,11)\n",
    "a1D"
   ]
  },
  {
   "cell_type": "code",
   "execution_count": 22,
   "metadata": {
    "collapsed": true
   },
   "outputs": [
    {
     "data": {
      "text/plain": [
       "array([ 1,  3,  5,  7,  9, 11, 13, 15, 17, 19])"
      ]
     },
     "execution_count": 22,
     "metadata": {},
     "output_type": "execute_result"
    }
   ],
   "source": [
    "b1D = np.arange(1,20,2)\n",
    "b1D"
   ]
  },
  {
   "cell_type": "code",
   "execution_count": 23,
   "metadata": {
    "collapsed": true
   },
   "outputs": [
    {
     "data": {
      "text/plain": [
       "array([ 2,  4,  6,  8, 10, 12, 14, 16, 18, 20])"
      ]
     },
     "execution_count": 23,
     "metadata": {},
     "output_type": "execute_result"
    }
   ],
   "source": [
    "c1D = 2 * a1D # Cada elemento de a1D será multiplicado por 2\n",
    "c1D"
   ]
  },
  {
   "cell_type": "code",
   "execution_count": 24,
   "metadata": {
    "collapsed": true
   },
   "outputs": [
    {
     "data": {
      "text/plain": [
       "array([ 6,  8, 10, 12, 14, 16, 18, 20, 22, 24])"
      ]
     },
     "execution_count": 24,
     "metadata": {},
     "output_type": "execute_result"
    }
   ],
   "source": [
    "d1D = b1D + 5 # Soma 5 para cada elemento de b1D\n",
    "d1D"
   ]
  },
  {
   "cell_type": "code",
   "execution_count": 25,
   "metadata": {
    "collapsed": true
   },
   "outputs": [
    {
     "data": {
      "text/plain": [
       "array([-2,  0,  2,  4,  6,  8, 10, 12, 14, 16])"
      ]
     },
     "execution_count": 25,
     "metadata": {},
     "output_type": "execute_result"
    }
   ],
   "source": [
    "e1D = b1D - 3\n",
    "e1D"
   ]
  },
  {
   "cell_type": "code",
   "execution_count": 26,
   "metadata": {
    "collapsed": true
   },
   "outputs": [
    {
     "data": {
      "text/plain": [
       "array([0.2, 0.4, 0.6, 0.8, 1. , 1.2, 1.4, 1.6, 1.8, 2. ])"
      ]
     },
     "execution_count": 26,
     "metadata": {},
     "output_type": "execute_result"
    }
   ],
   "source": [
    "f1D = a1D / 5\n",
    "f1D"
   ]
  },
  {
   "cell_type": "code",
   "execution_count": 27,
   "metadata": {
    "collapsed": true
   },
   "outputs": [
    {
     "data": {
      "text/plain": [
       "array([-4. , -2.2, -0.4,  1.4,  3.2,  5. ,  6.8,  8.6, 10.4, 12.2, 14. ,\n",
       "       15.8, 17.6, 19.4, 21.2, 23. , 24.8, 26.6, 28.4, 30.2, 32. , 33.8,\n",
       "       35.6, 37.4, 39.2, 41. , 42.8, 44.6, 46.4, 48.2, 50. , 51.8, 53.6,\n",
       "       55.4, 57.2, 59. , 60.8, 62.6, 64.4, 66.2, 68. , 69.8, 71.6, 73.4,\n",
       "       75.2, 77. , 78.8, 80.6, 82.4, 84.2, 86. , 87.8, 89.6, 91.4, 93.2,\n",
       "       95. ])"
      ]
     },
     "execution_count": 27,
     "metadata": {},
     "output_type": "execute_result"
    }
   ],
   "source": [
    "celsius = np.arange(-20, 36) # Cria um array com o valores de -20 a 35, representando a temperatura em graus Celsius\n",
    "fahrenheit = celsius * (9/5) + 32 # Cria um array convertendo cada valor em Celsius para fahrenheit\n",
    "\n",
    "fahrenheit"
   ]
  },
  {
   "cell_type": "code",
   "execution_count": 29,
   "metadata": {
    "collapsed": true
   },
   "outputs": [
    {
     "name": "stdout",
     "output_type": "stream",
     "text": [
      "[ 1  2  3  4  5  6  7  8  9 10]\n",
      "[ 1  3  5  7  9 11 13 15 17 19]\n",
      "-------------------------------\n",
      "[ 2  5  8 11 14 17 20 23 26 29]\n"
     ]
    }
   ],
   "source": [
    "# Somando cada elemento de a1D a b1D\n",
    "g1D = a1D + b1D\n",
    "print(a1D)\n",
    "print(b1D)\n",
    "print(\"-\"*31)\n",
    "print(g1D)"
   ]
  },
  {
   "cell_type": "code",
   "execution_count": 30,
   "metadata": {
    "collapsed": true
   },
   "outputs": [
    {
     "name": "stdout",
     "output_type": "stream",
     "text": [
      "[ 1  2  3  4  5  6  7  8  9 10]\n",
      "[ 1  3  5  7  9 11 13 15 17 19]\n",
      "-------------------------------\n",
      "[ 2  5  8 11 14 17 20 23 26 29]\n"
     ]
    }
   ],
   "source": [
    "# Outra forma de somar cada elemento de a1D a b1D\n",
    "h1D = np.add(a1D, b1D)\n",
    "print(a1D)\n",
    "print(b1D)\n",
    "print(\"-\"*31)\n",
    "print(h1D)"
   ]
  },
  {
   "cell_type": "code",
   "execution_count": 31,
   "metadata": {
    "collapsed": true
   },
   "outputs": [
    {
     "name": "stdout",
     "output_type": "stream",
     "text": [
      "[ 2  5  8 11 14 17 20 23 26 29]\n",
      "[ 2  5  8 11 14 17 20 23 26 29]\n",
      "-------------------------------\n",
      "[0 0 0 0 0 0 0 0 0 0]\n"
     ]
    }
   ],
   "source": [
    "i1D = h1D - g1D\n",
    "print(h1D)\n",
    "print(g1D)\n",
    "print(\"-\"*31)\n",
    "print(i1D)"
   ]
  },
  {
   "cell_type": "code",
   "execution_count": 32,
   "metadata": {
    "collapsed": true
   },
   "outputs": [
    {
     "name": "stdout",
     "output_type": "stream",
     "text": [
      "[ 2  5  8 11 14 17 20 23 26 29]\n",
      "[ 2  5  8 11 14 17 20 23 26 29]\n",
      "-------------------------------\n",
      "[0 0 0 0 0 0 0 0 0 0]\n"
     ]
    }
   ],
   "source": [
    "# Outra forma de somar cada elemento de a1D a b1D\n",
    "j1D = np.subtract(h1D, g1D)\n",
    "print(h1D)\n",
    "print(g1D)\n",
    "print(\"-\"*31)\n",
    "print(j1D)"
   ]
  },
  {
   "cell_type": "code",
   "execution_count": 33,
   "metadata": {
    "collapsed": true
   },
   "outputs": [
    {
     "data": {
      "text/plain": [
       "array([1, 2, 3, 4, 5])"
      ]
     },
     "execution_count": 33,
     "metadata": {},
     "output_type": "execute_result"
    }
   ],
   "source": [
    "a1D = np.arange(1, 6)\n",
    "a1D"
   ]
  },
  {
   "cell_type": "code",
   "execution_count": 34,
   "metadata": {
    "collapsed": true
   },
   "outputs": [
    {
     "data": {
      "text/plain": [
       "array([ 6,  7,  8,  9, 10])"
      ]
     },
     "execution_count": 34,
     "metadata": {},
     "output_type": "execute_result"
    }
   ],
   "source": [
    "b1D = np.arange(6,11)\n",
    "b1D"
   ]
  },
  {
   "cell_type": "code",
   "execution_count": 35,
   "metadata": {
    "collapsed": true
   },
   "outputs": [
    {
     "data": {
      "text/plain": [
       "array([ 6, 14, 24, 36, 50])"
      ]
     },
     "execution_count": 35,
     "metadata": {},
     "output_type": "execute_result"
    }
   ],
   "source": [
    "c1D = a1D * b1D\n",
    "c1D"
   ]
  },
  {
   "cell_type": "code",
   "execution_count": 36,
   "metadata": {
    "collapsed": true
   },
   "outputs": [
    {
     "data": {
      "text/plain": [
       "array([ 6, 14, 24, 36, 50])"
      ]
     },
     "execution_count": 36,
     "metadata": {},
     "output_type": "execute_result"
    }
   ],
   "source": [
    "d1D = np.multiply(a1D, b1D)\n",
    "d1D"
   ]
  },
  {
   "cell_type": "code",
   "execution_count": 37,
   "metadata": {
    "collapsed": true
   },
   "outputs": [
    {
     "data": {
      "text/plain": [
       "array([ 6.,  7.,  8.,  9., 10.])"
      ]
     },
     "execution_count": 37,
     "metadata": {},
     "output_type": "execute_result"
    }
   ],
   "source": [
    "e1D = c1D / a1D\n",
    "e1D"
   ]
  },
  {
   "cell_type": "code",
   "execution_count": 38,
   "metadata": {
    "collapsed": true
   },
   "outputs": [
    {
     "data": {
      "text/plain": [
       "array([ 6.,  7.,  8.,  9., 10.])"
      ]
     },
     "execution_count": 38,
     "metadata": {},
     "output_type": "execute_result"
    }
   ],
   "source": [
    "f1D = np.divide(c1D, a1D)\n",
    "f1D"
   ]
  },
  {
   "cell_type": "code",
   "execution_count": 39,
   "metadata": {
    "collapsed": true
   },
   "outputs": [
    {
     "data": {
      "text/plain": [
       "array([1, 2, 3, 4, 5, 6, 7, 8, 9])"
      ]
     },
     "execution_count": 39,
     "metadata": {},
     "output_type": "execute_result"
    }
   ],
   "source": [
    "g1D = np.arange(1,10)\n",
    "g1D"
   ]
  },
  {
   "cell_type": "code",
   "execution_count": 40,
   "metadata": {
    "collapsed": true
   },
   "outputs": [
    {
     "data": {
      "text/plain": [
       "array([1.        , 1.41421356, 1.73205081, 2.        , 2.23606798,\n",
       "       2.44948974, 2.64575131, 2.82842712, 3.        ])"
      ]
     },
     "execution_count": 40,
     "metadata": {},
     "output_type": "execute_result"
    }
   ],
   "source": [
    "raiz1D = np.sqrt(g1D)\n",
    "raiz1D"
   ]
  },
  {
   "cell_type": "markdown",
   "metadata": {},
   "source": [
    "### Algumas funções"
   ]
  },
  {
   "cell_type": "code",
   "execution_count": 41,
   "metadata": {
    "collapsed": true
   },
   "outputs": [
    {
     "data": {
      "text/plain": [
       "array([[88, 92, 57, 22, 74, 30, 38, 61, 31, 40],\n",
       "       [75, 79, 27, 75, 60, 75, 89, 72, 57, 51],\n",
       "       [25, 10, 38,  4, 92, 28, 43, 71, 27,  1],\n",
       "       [52, 79, 32, 32,  8, 66, 48, 89, 78, 53],\n",
       "       [97, 41, 63,  6,  3, 61, 59, 41, 93, 15]], dtype=int32)"
      ]
     },
     "execution_count": 41,
     "metadata": {},
     "output_type": "execute_result"
    }
   ],
   "source": [
    "d2D = np.random.randint(1, 101, (5,10)) # Array de 5 linhas x 10 colunas preenchidos com valores aleatórios entre 1 e 100\n",
    "d2D"
   ]
  },
  {
   "cell_type": "markdown",
   "metadata": {},
   "source": [
    "#### Obs: como os valores valores são gerados aleatoriamente, sua matriz provavelmente será diferente da gerada acima"
   ]
  },
  {
   "cell_type": "code",
   "execution_count": 42,
   "metadata": {
    "collapsed": true
   },
   "outputs": [
    {
     "data": {
      "text/plain": [
       "np.int64(2548)"
      ]
     },
     "execution_count": 42,
     "metadata": {},
     "output_type": "execute_result"
    }
   ],
   "source": [
    "# Soma de todos os elementos\n",
    "d2D.sum()"
   ]
  },
  {
   "cell_type": "code",
   "execution_count": 43,
   "metadata": {
    "collapsed": true
   },
   "outputs": [
    {
     "data": {
      "text/plain": [
       "array([337, 301, 217, 139, 237, 260, 277, 334, 286, 160])"
      ]
     },
     "execution_count": 43,
     "metadata": {},
     "output_type": "execute_result"
    }
   ],
   "source": [
    "# Soma de todos os elementos de cada coluna (eixo 0)\n",
    "d2D.sum(axis = 0)"
   ]
  },
  {
   "cell_type": "code",
   "execution_count": 44,
   "metadata": {
    "collapsed": true
   },
   "outputs": [
    {
     "data": {
      "text/plain": [
       "array([533, 660, 339, 537, 479])"
      ]
     },
     "execution_count": 44,
     "metadata": {},
     "output_type": "execute_result"
    }
   ],
   "source": [
    "# Soma de todos os elementos de cada linha (eixo 1)\n",
    "d2D.sum(axis = 1)"
   ]
  },
  {
   "cell_type": "code",
   "execution_count": 45,
   "metadata": {
    "collapsed": true
   },
   "outputs": [
    {
     "data": {
      "text/plain": [
       "array([337, 301, 217, 139, 237, 260, 277, 334, 286, 160], dtype=int32)"
      ]
     },
     "execution_count": 45,
     "metadata": {},
     "output_type": "execute_result"
    }
   ],
   "source": [
    "somacol = sum(d2D) # A função sum() do Python retornará a soma de todas as colunas\n",
    "somacol"
   ]
  },
  {
   "cell_type": "code",
   "execution_count": 46,
   "metadata": {
    "collapsed": true
   },
   "outputs": [
    {
     "data": {
      "text/plain": [
       "np.int32(1)"
      ]
     },
     "execution_count": 46,
     "metadata": {},
     "output_type": "execute_result"
    }
   ],
   "source": [
    "# Retorna o menor valor geral\n",
    "d2D.min()"
   ]
  },
  {
   "cell_type": "code",
   "execution_count": 47,
   "metadata": {
    "collapsed": true
   },
   "outputs": [
    {
     "data": {
      "text/plain": [
       "array([25, 10, 27,  4,  3, 28, 38, 41, 27,  1], dtype=int32)"
      ]
     },
     "execution_count": 47,
     "metadata": {},
     "output_type": "execute_result"
    }
   ],
   "source": [
    "# Retorna o menor valor de cada coluna (eixo 0)\n",
    "d2D.min(axis=0)"
   ]
  },
  {
   "cell_type": "code",
   "execution_count": 50,
   "metadata": {
    "collapsed": true
   },
   "outputs": [
    {
     "data": {
      "text/plain": [
       "array([22, 27,  1,  8,  3], dtype=int32)"
      ]
     },
     "execution_count": 50,
     "metadata": {},
     "output_type": "execute_result"
    }
   ],
   "source": [
    "# Retorna o menor valor de cada linha (eixo 1)\n",
    "d2D.min(axis=1)"
   ]
  },
  {
   "cell_type": "code",
   "execution_count": 51,
   "metadata": {
    "collapsed": true
   },
   "outputs": [
    {
     "data": {
      "text/plain": [
       "np.int32(97)"
      ]
     },
     "execution_count": 51,
     "metadata": {},
     "output_type": "execute_result"
    }
   ],
   "source": [
    "# Retorna o maior valor geral\n",
    "d2D.max()"
   ]
  },
  {
   "cell_type": "code",
   "execution_count": 52,
   "metadata": {
    "collapsed": true
   },
   "outputs": [
    {
     "data": {
      "text/plain": [
       "array([97, 92, 63, 75, 92, 75, 89, 89, 93, 53], dtype=int32)"
      ]
     },
     "execution_count": 52,
     "metadata": {},
     "output_type": "execute_result"
    }
   ],
   "source": [
    "# Retorna o maior valor de cada coluna (eixo 0)\n",
    "d2D.max(axis=0)"
   ]
  },
  {
   "cell_type": "code",
   "execution_count": 53,
   "metadata": {
    "collapsed": true
   },
   "outputs": [
    {
     "data": {
      "text/plain": [
       "array([92, 89, 92, 89, 97], dtype=int32)"
      ]
     },
     "execution_count": 53,
     "metadata": {},
     "output_type": "execute_result"
    }
   ],
   "source": [
    "# Retorna o maior valor de cada linha (eixo 1)\n",
    "d2D.max(axis=1)"
   ]
  },
  {
   "cell_type": "code",
   "execution_count": 54,
   "metadata": {
    "collapsed": true
   },
   "outputs": [
    {
     "data": {
      "text/plain": [
       "array([  88,  180,  237,  259,  333,  363,  401,  462,  493,  533,  608,\n",
       "        687,  714,  789,  849,  924, 1013, 1085, 1142, 1193, 1218, 1228,\n",
       "       1266, 1270, 1362, 1390, 1433, 1504, 1531, 1532, 1584, 1663, 1695,\n",
       "       1727, 1735, 1801, 1849, 1938, 2016, 2069, 2166, 2207, 2270, 2276,\n",
       "       2279, 2340, 2399, 2440, 2533, 2548])"
      ]
     },
     "execution_count": 54,
     "metadata": {},
     "output_type": "execute_result"
    }
   ],
   "source": [
    "# Retorna a soma cumulativa\n",
    "d2D.cumsum()"
   ]
  },
  {
   "cell_type": "code",
   "execution_count": 55,
   "metadata": {
    "collapsed": true
   },
   "outputs": [
    {
     "data": {
      "text/plain": [
       "array([[ 88,  92,  57,  22,  74,  30,  38,  61,  31,  40],\n",
       "       [163, 171,  84,  97, 134, 105, 127, 133,  88,  91],\n",
       "       [188, 181, 122, 101, 226, 133, 170, 204, 115,  92],\n",
       "       [240, 260, 154, 133, 234, 199, 218, 293, 193, 145],\n",
       "       [337, 301, 217, 139, 237, 260, 277, 334, 286, 160]])"
      ]
     },
     "execution_count": 55,
     "metadata": {},
     "output_type": "execute_result"
    }
   ],
   "source": [
    "# Retorna a soma cumulativa para cada coluna (eixo = 0)\n",
    "d2D.cumsum(axis = 0)"
   ]
  },
  {
   "cell_type": "code",
   "execution_count": 56,
   "metadata": {
    "collapsed": true
   },
   "outputs": [
    {
     "data": {
      "text/plain": [
       "array([[88, 92, 57, 22, 74, 30, 38, 61, 31, 40],\n",
       "       [75, 79, 27, 75, 60, 75, 89, 72, 57, 51],\n",
       "       [25, 10, 38,  4, 92, 28, 43, 71, 27,  1],\n",
       "       [52, 79, 32, 32,  8, 66, 48, 89, 78, 53],\n",
       "       [97, 41, 63,  6,  3, 61, 59, 41, 93, 15]], dtype=int32)"
      ]
     },
     "execution_count": 56,
     "metadata": {},
     "output_type": "execute_result"
    }
   ],
   "source": [
    "d2D"
   ]
  },
  {
   "cell_type": "code",
   "execution_count": 57,
   "metadata": {
    "collapsed": true
   },
   "outputs": [
    {
     "data": {
      "text/plain": [
       "array([[ 88, 180, 237, 259, 333, 363, 401, 462, 493, 533],\n",
       "       [ 75, 154, 181, 256, 316, 391, 480, 552, 609, 660],\n",
       "       [ 25,  35,  73,  77, 169, 197, 240, 311, 338, 339],\n",
       "       [ 52, 131, 163, 195, 203, 269, 317, 406, 484, 537],\n",
       "       [ 97, 138, 201, 207, 210, 271, 330, 371, 464, 479]])"
      ]
     },
     "execution_count": 57,
     "metadata": {},
     "output_type": "execute_result"
    }
   ],
   "source": [
    "# Retorna a soma cumulativa para cada linha (eixo = 1)\n",
    "x = d2D.cumsum(axis = 1)\n",
    "x"
   ]
  },
  {
   "cell_type": "code",
   "execution_count": 58,
   "metadata": {
    "collapsed": true
   },
   "outputs": [
    {
     "data": {
      "text/plain": [
       "np.float64(50.96)"
      ]
     },
     "execution_count": 58,
     "metadata": {},
     "output_type": "execute_result"
    }
   ],
   "source": [
    "# Retorna a média aritmética\n",
    "d2D.mean()"
   ]
  },
  {
   "cell_type": "code",
   "execution_count": 59,
   "metadata": {
    "collapsed": true
   },
   "outputs": [
    {
     "data": {
      "text/plain": [
       "array([67.4, 60.2, 43.4, 27.8, 47.4, 52. , 55.4, 66.8, 57.2, 32. ])"
      ]
     },
     "execution_count": 59,
     "metadata": {},
     "output_type": "execute_result"
    }
   ],
   "source": [
    "# Retorna a média aritmética para cada coluna (eixo = 0)\n",
    "d2D.mean(axis = 0)"
   ]
  },
  {
   "cell_type": "code",
   "execution_count": 60,
   "metadata": {
    "collapsed": true
   },
   "outputs": [
    {
     "data": {
      "text/plain": [
       "array([53.3, 66. , 33.9, 53.7, 47.9])"
      ]
     },
     "execution_count": 60,
     "metadata": {},
     "output_type": "execute_result"
    }
   ],
   "source": [
    "# Retorna a média aritmética para cada linha (eixo = 1)\n",
    "d2D.mean(axis = 1)"
   ]
  },
  {
   "cell_type": "code",
   "execution_count": 61,
   "metadata": {
    "collapsed": true
   },
   "outputs": [
    {
     "data": {
      "text/plain": [
       "np.float64(27.218346753614554)"
      ]
     },
     "execution_count": 61,
     "metadata": {},
     "output_type": "execute_result"
    }
   ],
   "source": [
    "# Retorna o desvio padrão\n",
    "d2D.std()"
   ]
  },
  {
   "cell_type": "code",
   "execution_count": 62,
   "metadata": {
    "collapsed": true
   },
   "outputs": [
    {
     "data": {
      "text/plain": [
       "array([26.05071976, 30.35391243, 14.12232276, 25.77130187, 35.71890256,\n",
       "       19.31838503, 18.18350901, 15.7276826 , 25.74024087, 20.57182539])"
      ]
     },
     "execution_count": 62,
     "metadata": {},
     "output_type": "execute_result"
    }
   ],
   "source": [
    "# Retorna o desvio padrão para cada coluna (eixo = 0)\n",
    "d2D.std(axis = 0)"
   ]
  },
  {
   "cell_type": "code",
   "execution_count": 63,
   "metadata": {
    "collapsed": true
   },
   "outputs": [
    {
     "data": {
      "text/plain": [
       "array([23.73625918, 16.85229955, 27.49709076, 23.86231338, 31.49110986])"
      ]
     },
     "execution_count": 63,
     "metadata": {},
     "output_type": "execute_result"
    }
   ],
   "source": [
    "# Retorna o desvio padrão para cada linha (eixo = 1)\n",
    "d2D.std(axis = 1)"
   ]
  },
  {
   "cell_type": "code",
   "execution_count": 64,
   "metadata": {
    "collapsed": true
   },
   "outputs": [
    {
     "data": {
      "text/plain": [
       "np.float64(52.5)"
      ]
     },
     "execution_count": 64,
     "metadata": {},
     "output_type": "execute_result"
    }
   ],
   "source": [
    "# Retorna a mediana (geral)\n",
    "np.median(d2D)"
   ]
  },
  {
   "cell_type": "code",
   "execution_count": 65,
   "metadata": {
    "collapsed": true
   },
   "outputs": [
    {
     "data": {
      "text/plain": [
       "array([75., 79., 38., 22., 60., 61., 48., 71., 57., 40.])"
      ]
     },
     "execution_count": 65,
     "metadata": {},
     "output_type": "execute_result"
    }
   ],
   "source": [
    "# Retorna a mediana para cada coluna (eixo = 0)\n",
    "np.median(d2D, axis = 0)"
   ]
  },
  {
   "cell_type": "code",
   "execution_count": 66,
   "metadata": {
    "collapsed": true
   },
   "outputs": [
    {
     "data": {
      "text/plain": [
       "array([48.5, 73.5, 27.5, 52.5, 50. ])"
      ]
     },
     "execution_count": 66,
     "metadata": {},
     "output_type": "execute_result"
    }
   ],
   "source": [
    "# Retorna a mediana para cada linha (eixo = 1)\n",
    "np.median(d2D, axis = 1)"
   ]
  },
  {
   "cell_type": "markdown",
   "metadata": {},
   "source": [
    "### Copiando e concatenando arrays"
   ]
  },
  {
   "cell_type": "code",
   "execution_count": 69,
   "metadata": {
    "collapsed": true
   },
   "outputs": [
    {
     "data": {
      "text/plain": [
       "array([[47, 47, 21, 29,  9],\n",
       "       [22,  2, 32, 32, 44],\n",
       "       [36,  6, 25,  6,  6],\n",
       "       [ 5, 19, 26, 22, 25]], dtype=int32)"
      ]
     },
     "execution_count": 69,
     "metadata": {},
     "output_type": "execute_result"
    }
   ],
   "source": [
    "a2D = np.random.randint(1,50, (4,5))\n",
    "a2D"
   ]
  },
  {
   "cell_type": "code",
   "execution_count": 70,
   "metadata": {
    "collapsed": true
   },
   "outputs": [
    {
     "data": {
      "text/plain": [
       "array([[71, 90, 56, 51, 59],\n",
       "       [63, 64, 94, 87, 99],\n",
       "       [56, 64, 97, 62, 66],\n",
       "       [51, 60, 77, 88, 69]], dtype=int32)"
      ]
     },
     "execution_count": 70,
     "metadata": {},
     "output_type": "execute_result"
    }
   ],
   "source": [
    "b2D = np.random.randint(50,100, (4,5))\n",
    "b2D"
   ]
  },
  {
   "cell_type": "code",
   "execution_count": 71,
   "metadata": {
    "collapsed": true
   },
   "outputs": [
    {
     "data": {
      "text/plain": [
       "array([[47, 47, 21, 29,  9],\n",
       "       [22,  2, 32, 32, 44],\n",
       "       [36,  6, 25,  6,  6],\n",
       "       [ 5, 19, 26, 22, 25]], dtype=int32)"
      ]
     },
     "execution_count": 71,
     "metadata": {},
     "output_type": "execute_result"
    }
   ],
   "source": [
    "c2D = a2D\n",
    "c2D"
   ]
  },
  {
   "cell_type": "code",
   "execution_count": 72,
   "metadata": {
    "collapsed": true
   },
   "outputs": [
    {
     "data": {
      "text/plain": [
       "array([[47, 47, 21, 29, -1],\n",
       "       [22, -1, 32, 32, 44],\n",
       "       [36, -1, 25, -1, -1],\n",
       "       [-1, -1, 26, 22, 25]], dtype=int32)"
      ]
     },
     "execution_count": 72,
     "metadata": {},
     "output_type": "execute_result"
    }
   ],
   "source": [
    "# Aparentemente ocorreu uma cópia dos arrays, mas veja o que acontece se alterarmos alguns elementos\n",
    "c2D[c2D < 20] = -1\n",
    "c2D"
   ]
  },
  {
   "cell_type": "code",
   "execution_count": 73,
   "metadata": {
    "collapsed": true
   },
   "outputs": [
    {
     "data": {
      "text/plain": [
       "array([[47, 47, 21, 29, -1],\n",
       "       [22, -1, 32, 32, 44],\n",
       "       [36, -1, 25, -1, -1],\n",
       "       [-1, -1, 26, 22, 25]], dtype=int32)"
      ]
     },
     "execution_count": 73,
     "metadata": {},
     "output_type": "execute_result"
    }
   ],
   "source": [
    "a2D "
   ]
  },
  {
   "cell_type": "markdown",
   "metadata": {},
   "source": [
    "Os elementos de a2D também foram alterados. :-("
   ]
  },
  {
   "cell_type": "code",
   "execution_count": 74,
   "metadata": {
    "collapsed": true
   },
   "outputs": [
    {
     "data": {
      "text/plain": [
       "array([[38,  7,  7, 35,  7],\n",
       "       [18, 40,  1,  7, 18],\n",
       "       [40,  5, 11, 21, 39],\n",
       "       [28,  1, 17, 14, 45]], dtype=int32)"
      ]
     },
     "execution_count": 74,
     "metadata": {},
     "output_type": "execute_result"
    }
   ],
   "source": [
    "# Redefinindo os elementos de a2D\n",
    "a2D = np.random.randint(1,50, (4,5))\n",
    "a2D"
   ]
  },
  {
   "cell_type": "code",
   "execution_count": 75,
   "metadata": {
    "collapsed": true
   },
   "outputs": [
    {
     "data": {
      "text/plain": [
       "array([[38,  7,  7, 35,  7],\n",
       "       [18, 40,  1,  7, 18],\n",
       "       [40,  5, 11, 21, 39],\n",
       "       [28,  1, 17, 14, 45]], dtype=int32)"
      ]
     },
     "execution_count": 75,
     "metadata": {},
     "output_type": "execute_result"
    }
   ],
   "source": [
    "# Forma correta de copiar um array parece que com a forma de copiar uma lista\n",
    "c2D = a2D.copy()\n",
    "c2D"
   ]
  },
  {
   "cell_type": "code",
   "execution_count": 76,
   "metadata": {
    "collapsed": true
   },
   "outputs": [
    {
     "data": {
      "text/plain": [
       "array([[38, -1, -1, 35, -1],\n",
       "       [-1, 40, -1, -1, -1],\n",
       "       [40, -1, -1, 21, 39],\n",
       "       [28, -1, -1, -1, 45]], dtype=int32)"
      ]
     },
     "execution_count": 76,
     "metadata": {},
     "output_type": "execute_result"
    }
   ],
   "source": [
    "c2D[c2D < 20] = -1\n",
    "c2D"
   ]
  },
  {
   "cell_type": "code",
   "execution_count": 77,
   "metadata": {
    "collapsed": true
   },
   "outputs": [
    {
     "data": {
      "text/plain": [
       "array([[38,  7,  7, 35,  7],\n",
       "       [18, 40,  1,  7, 18],\n",
       "       [40,  5, 11, 21, 39],\n",
       "       [28,  1, 17, 14, 45]], dtype=int32)"
      ]
     },
     "execution_count": 77,
     "metadata": {},
     "output_type": "execute_result"
    }
   ],
   "source": [
    "a2D"
   ]
  },
  {
   "cell_type": "markdown",
   "metadata": {},
   "source": [
    "Agora sim!!!"
   ]
  },
  {
   "cell_type": "markdown",
   "metadata": {},
   "source": [
    "### Ordenando os elementos de um array"
   ]
  },
  {
   "cell_type": "code",
   "execution_count": 78,
   "metadata": {
    "collapsed": true
   },
   "outputs": [
    {
     "data": {
      "text/plain": [
       "array([20, 27, 59, 67, 91, 55, 93, 12,  2,  4, 52, 53, 86, 36, 83],\n",
       "      dtype=int32)"
      ]
     },
     "execution_count": 78,
     "metadata": {},
     "output_type": "execute_result"
    }
   ],
   "source": [
    "a1D = np.random.randint(1,100, 15)\n",
    "a1D"
   ]
  },
  {
   "cell_type": "code",
   "execution_count": 79,
   "metadata": {
    "collapsed": true
   },
   "outputs": [
    {
     "data": {
      "text/plain": [
       "array([ 2,  4, 12, 20, 27, 36, 52, 53, 55, 59, 67, 83, 86, 91, 93],\n",
       "      dtype=int32)"
      ]
     },
     "execution_count": 79,
     "metadata": {},
     "output_type": "execute_result"
    }
   ],
   "source": [
    "a1D.sort()\n",
    "a1D"
   ]
  },
  {
   "cell_type": "code",
   "execution_count": 80,
   "metadata": {
    "collapsed": true
   },
   "outputs": [
    {
     "data": {
      "text/plain": [
       "array([[91, 43,  7, 14, 53,  5, 58, 65, 66, 59],\n",
       "       [68, 13, 63, 77, 84, 25, 45, 37, 73, 11],\n",
       "       [44, 25, 47, 91, 81, 86, 48, 18, 40, 30],\n",
       "       [20, 49, 60, 25, 92, 23, 82, 47, 18, 65],\n",
       "       [72, 85, 67, 44, 79, 86, 15, 44, 19, 37],\n",
       "       [49, 33, 26, 86, 95, 51, 13, 50, 26, 20]], dtype=int32)"
      ]
     },
     "execution_count": 80,
     "metadata": {},
     "output_type": "execute_result"
    }
   ],
   "source": [
    "a2D = np.random.randint(1,100, (6,10))\n",
    "a2D"
   ]
  },
  {
   "cell_type": "code",
   "execution_count": 81,
   "metadata": {
    "collapsed": true
   },
   "outputs": [
    {
     "data": {
      "text/plain": [
       "array([[ 5,  7, 14, 43, 53, 58, 59, 65, 66, 91],\n",
       "       [11, 13, 25, 37, 45, 63, 68, 73, 77, 84],\n",
       "       [18, 25, 30, 40, 44, 47, 48, 81, 86, 91],\n",
       "       [18, 20, 23, 25, 47, 49, 60, 65, 82, 92],\n",
       "       [15, 19, 37, 44, 44, 67, 72, 79, 85, 86],\n",
       "       [13, 20, 26, 26, 33, 49, 50, 51, 86, 95]], dtype=int32)"
      ]
     },
     "execution_count": 81,
     "metadata": {},
     "output_type": "execute_result"
    }
   ],
   "source": [
    "a2D.sort() # Por padrão ordena o maior eixo (nesse caso o eixo 1, linhas)\n",
    "a2D"
   ]
  },
  {
   "cell_type": "code",
   "execution_count": 82,
   "metadata": {
    "collapsed": true
   },
   "outputs": [
    {
     "data": {
      "text/plain": [
       "array([[ 5,  7, 14, 25, 33, 47, 48, 51, 66, 84],\n",
       "       [11, 13, 23, 26, 44, 49, 50, 65, 77, 86],\n",
       "       [13, 19, 25, 37, 44, 49, 59, 65, 82, 91],\n",
       "       [15, 20, 26, 40, 45, 58, 60, 73, 85, 91],\n",
       "       [18, 20, 30, 43, 47, 63, 68, 79, 86, 92],\n",
       "       [18, 25, 37, 44, 53, 67, 72, 81, 86, 95]], dtype=int32)"
      ]
     },
     "execution_count": 82,
     "metadata": {},
     "output_type": "execute_result"
    }
   ],
   "source": [
    "a2D.sort(axis=0) # Ordenando pelo eixo 0 (colunas)\n",
    "a2D"
   ]
  },
  {
   "cell_type": "code",
   "execution_count": 83,
   "metadata": {
    "collapsed": true
   },
   "outputs": [
    {
     "data": {
      "text/plain": [
       "array([[69, 58, 72, 51,  7, 69, 13, 43, 50, 79],\n",
       "       [84, 76,  2, 26, 80, 10, 47, 25, 13, 73],\n",
       "       [25,  7, 96, 53, 74, 78,  2, 18, 64, 39],\n",
       "       [82, 13, 18, 42, 21, 21, 38, 65, 69, 31],\n",
       "       [12, 79, 18, 42, 84, 40, 96,  4, 87, 92],\n",
       "       [72, 15, 82, 99, 83, 68, 64, 92, 26, 62]], dtype=int32)"
      ]
     },
     "execution_count": 83,
     "metadata": {},
     "output_type": "execute_result"
    }
   ],
   "source": [
    "a2D = np.random.randint(1,100, (6,10))\n",
    "a2D"
   ]
  },
  {
   "cell_type": "code",
   "execution_count": 84,
   "metadata": {
    "collapsed": true
   },
   "outputs": [
    {
     "data": {
      "text/plain": [
       "array([[ 7, 13, 43, 50, 51, 58, 69, 69, 72, 79],\n",
       "       [ 2, 10, 13, 25, 26, 47, 73, 76, 80, 84],\n",
       "       [ 2,  7, 18, 25, 39, 53, 64, 74, 78, 96],\n",
       "       [13, 18, 21, 21, 31, 38, 42, 65, 69, 82],\n",
       "       [ 4, 12, 18, 40, 42, 79, 84, 87, 92, 96],\n",
       "       [15, 26, 62, 64, 68, 72, 82, 83, 92, 99]], dtype=int32)"
      ]
     },
     "execution_count": 84,
     "metadata": {},
     "output_type": "execute_result"
    }
   ],
   "source": [
    "a2D.sort(axis=1) # Ordenando pelo eixo 1 (linhas)\n",
    "a2D"
   ]
  },
  {
   "cell_type": "markdown",
   "metadata": {},
   "source": [
    "### Transposição de arrays"
   ]
  },
  {
   "cell_type": "code",
   "execution_count": 93,
   "metadata": {
    "collapsed": true
   },
   "outputs": [
    {
     "data": {
      "text/plain": [
       "array([[1, 2, 3, 4],\n",
       "       [5, 6, 7, 8]])"
      ]
     },
     "execution_count": 93,
     "metadata": {},
     "output_type": "execute_result"
    }
   ],
   "source": [
    "a2D = np.array([[1,2,3,4],[5,6,7,8]])\n",
    "a2D"
   ]
  },
  {
   "cell_type": "code",
   "execution_count": 94,
   "metadata": {
    "collapsed": true
   },
   "outputs": [
    {
     "data": {
      "text/plain": [
       "array([[1, 5],\n",
       "       [2, 6],\n",
       "       [3, 7],\n",
       "       [4, 8]])"
      ]
     },
     "execution_count": 94,
     "metadata": {},
     "output_type": "execute_result"
    }
   ],
   "source": [
    "a2DT = a2D.T # Retorna a transposta\n",
    "a2DT"
   ]
  },
  {
   "cell_type": "code",
   "execution_count": 95,
   "metadata": {},
   "outputs": [
    {
     "data": {
      "text/plain": [
       "array([[1, 5],\n",
       "       [2, 6],\n",
       "       [3, 7],\n",
       "       [4, 8]])"
      ]
     },
     "execution_count": 95,
     "metadata": {},
     "output_type": "execute_result"
    }
   ],
   "source": [
    "a2DT = a2D.transpose() # Retorna a transposta\n",
    "a2DT"
   ]
  },
  {
   "cell_type": "code",
   "execution_count": 96,
   "metadata": {
    "collapsed": true
   },
   "outputs": [
    {
     "data": {
      "text/plain": [
       "array([[1, 2, 3, 4],\n",
       "       [5, 6, 7, 8]])"
      ]
     },
     "execution_count": 96,
     "metadata": {},
     "output_type": "execute_result"
    }
   ],
   "source": [
    "a2D # a2D original não foi transposto"
   ]
  },
  {
   "cell_type": "code",
   "execution_count": 97,
   "metadata": {
    "collapsed": true
   },
   "outputs": [
    {
     "data": {
      "text/plain": [
       "array([[1, 5],\n",
       "       [2, 6],\n",
       "       [3, 7],\n",
       "       [4, 8]])"
      ]
     },
     "execution_count": 97,
     "metadata": {},
     "output_type": "execute_result"
    }
   ],
   "source": [
    "a2D.transpose() # Retorna a transposta"
   ]
  },
  {
   "cell_type": "code",
   "execution_count": null,
   "metadata": {
    "collapsed": true
   },
   "outputs": [],
   "source": [
    "a2D # a2D original não foi transposto"
   ]
  },
  {
   "cell_type": "markdown",
   "metadata": {},
   "source": [
    "### Mudando o formato de um array - reshape()"
   ]
  },
  {
   "cell_type": "code",
   "execution_count": 98,
   "metadata": {
    "collapsed": true
   },
   "outputs": [
    {
     "data": {
      "text/plain": [
       "array([ 1,  2,  3,  4,  5,  6,  7,  8,  9, 10, 11, 12, 13, 14, 15, 16, 17,\n",
       "       18, 19, 20, 21, 22, 23, 24])"
      ]
     },
     "execution_count": 98,
     "metadata": {},
     "output_type": "execute_result"
    }
   ],
   "source": [
    "a1D = np.arange(1,25)\n",
    "a1D"
   ]
  },
  {
   "cell_type": "code",
   "execution_count": 99,
   "metadata": {
    "collapsed": true
   },
   "outputs": [
    {
     "name": "stdout",
     "output_type": "stream",
     "text": [
      "(24,)\n",
      "(2, 12)\n",
      "[[ 1  2  3  4  5  6  7  8  9 10 11 12]\n",
      " [13 14 15 16 17 18 19 20 21 22 23 24]]\n"
     ]
    }
   ],
   "source": [
    "print(a1D.shape)\n",
    "a1D.shape = (2,12)\n",
    "print(a1D.shape)\n",
    "print(a1D)"
   ]
  },
  {
   "cell_type": "code",
   "execution_count": 100,
   "metadata": {
    "collapsed": true
   },
   "outputs": [
    {
     "data": {
      "text/plain": [
       "array([[ 1,  2,  3,  4,  5,  6],\n",
       "       [ 7,  8,  9, 10, 11, 12],\n",
       "       [13, 14, 15, 16, 17, 18],\n",
       "       [19, 20, 21, 22, 23, 24]])"
      ]
     },
     "execution_count": 100,
     "metadata": {},
     "output_type": "execute_result"
    }
   ],
   "source": [
    "a2D_4x6 = a1D.reshape(4,6)\n",
    "a2D_4x6"
   ]
  },
  {
   "cell_type": "code",
   "execution_count": 101,
   "metadata": {
    "collapsed": true
   },
   "outputs": [
    {
     "data": {
      "text/plain": [
       "array([[ 1,  2,  3,  4,  5,  6,  7,  8,  9, 10, 11, 12],\n",
       "       [13, 14, 15, 16, 17, 18, 19, 20, 21, 22, 23, 24]])"
      ]
     },
     "execution_count": 101,
     "metadata": {},
     "output_type": "execute_result"
    }
   ],
   "source": [
    "a1D"
   ]
  },
  {
   "cell_type": "code",
   "execution_count": 102,
   "metadata": {
    "collapsed": true
   },
   "outputs": [
    {
     "data": {
      "text/plain": [
       "array([[ 1,  2,  3,  4,  5,  6,  7,  8],\n",
       "       [ 9, 10, 11, 12, 13, 14, 15, 16],\n",
       "       [17, 18, 19, 20, 21, 22, 23, 24]])"
      ]
     },
     "execution_count": 102,
     "metadata": {},
     "output_type": "execute_result"
    }
   ],
   "source": [
    "a2D_3x8 = a1D.reshape(3,8)\n",
    "a2D_3x8"
   ]
  },
  {
   "cell_type": "markdown",
   "metadata": {},
   "source": [
    "### Linearização de um array"
   ]
  },
  {
   "cell_type": "code",
   "execution_count": 103,
   "metadata": {
    "collapsed": true
   },
   "outputs": [
    {
     "data": {
      "text/plain": [
       "array([ 1,  2,  3,  4,  5,  6,  7,  8,  9, 10, 11, 12, 13, 14, 15, 16, 17,\n",
       "       18, 19, 20, 21, 22, 23, 24])"
      ]
     },
     "execution_count": 103,
     "metadata": {},
     "output_type": "execute_result"
    }
   ],
   "source": [
    "x = a2D_3x8.flatten()\n",
    "x"
   ]
  },
  {
   "cell_type": "code",
   "execution_count": 104,
   "metadata": {
    "collapsed": true
   },
   "outputs": [
    {
     "data": {
      "text/plain": [
       "array([ 1,  2,  3,  4,  5,  6,  7,  8,  9, 10, 11, 12, 13, 14, 15, 16, 17,\n",
       "       18, 19, 20, 21, 22, 23, 24])"
      ]
     },
     "execution_count": 104,
     "metadata": {},
     "output_type": "execute_result"
    }
   ],
   "source": [
    "y = a2D_3x8.ravel()\n",
    "y"
   ]
  },
  {
   "cell_type": "markdown",
   "metadata": {},
   "source": [
    "### Combinando/concatenando arrays"
   ]
  },
  {
   "cell_type": "code",
   "execution_count": 105,
   "metadata": {
    "collapsed": true
   },
   "outputs": [
    {
     "data": {
      "text/plain": [
       "array([[21, 21, 89, 46, 74, 77, 41, 35, 40],\n",
       "       [38, 21, 79,  1, 30, 13, 34, 18, 22],\n",
       "       [52, 23, 66, 35, 26, 31, 78, 69, 84]], dtype=int32)"
      ]
     },
     "execution_count": 105,
     "metadata": {},
     "output_type": "execute_result"
    }
   ],
   "source": [
    "a2D = np.random.randint(1,101,(3,9))\n",
    "a2D"
   ]
  },
  {
   "cell_type": "code",
   "execution_count": 106,
   "metadata": {
    "collapsed": true
   },
   "outputs": [
    {
     "data": {
      "text/plain": [
       "array([[83, 42, 21, 84, 14, 14,  5, 44, 69],\n",
       "       [84, 53, 88, 91,  3, 64, 31, 13, 22],\n",
       "       [13, 46, 14, 36, 58, 63, 27, 53, 41],\n",
       "       [84, 28,  1,  5, 17, 18, 99,  8, 49],\n",
       "       [84, 78, 18, 83, 75, 69, 29, 90, 49]], dtype=int32)"
      ]
     },
     "execution_count": 106,
     "metadata": {},
     "output_type": "execute_result"
    }
   ],
   "source": [
    "b2D = np.random.randint(1,101,(5,9))\n",
    "b2D"
   ]
  },
  {
   "cell_type": "code",
   "execution_count": 107,
   "metadata": {
    "collapsed": true
   },
   "outputs": [
    {
     "data": {
      "text/plain": [
       "array([[ 81,  68,  61,  75],\n",
       "       [  7,  28,  39,   3],\n",
       "       [  6,  99,  54,  44],\n",
       "       [100,  81,  80,  48],\n",
       "       [ 73,  51,  67,  28]], dtype=int32)"
      ]
     },
     "execution_count": 107,
     "metadata": {},
     "output_type": "execute_result"
    }
   ],
   "source": [
    "c2D = np.random.randint(1,101,(5,4))\n",
    "c2D"
   ]
  },
  {
   "cell_type": "code",
   "execution_count": 108,
   "metadata": {
    "collapsed": true
   },
   "outputs": [
    {
     "data": {
      "text/plain": [
       "'Python & Numpy'"
      ]
     },
     "execution_count": 108,
     "metadata": {},
     "output_type": "execute_result"
    }
   ],
   "source": [
    "# Concatenação de strings usa o operador \"+\"\n",
    "str1 = \"Python\"\n",
    "str2 = \" & \"\n",
    "str3 = \"Numpy\"\n",
    "str4 = str1 + str2 + str3\n",
    "str4"
   ]
  },
  {
   "cell_type": "code",
   "execution_count": 109,
   "metadata": {
    "collapsed": true
   },
   "outputs": [
    {
     "ename": "ValueError",
     "evalue": "operands could not be broadcast together with shapes (3,9) (5,9) ",
     "output_type": "error",
     "traceback": [
      "\u001b[1;31m---------------------------------------------------------------------------\u001b[0m",
      "\u001b[1;31mValueError\u001b[0m                                Traceback (most recent call last)",
      "Cell \u001b[1;32mIn[109], line 2\u001b[0m\n\u001b[0;32m      1\u001b[0m \u001b[38;5;66;03m# O operador \"+\" aplicado a ndarrays não faz a concatenação, mas tentar somar elemento a elemento\u001b[39;00m\n\u001b[1;32m----> 2\u001b[0m \u001b[43ma2D\u001b[49m\u001b[43m \u001b[49m\u001b[38;5;241;43m+\u001b[39;49m\u001b[43m \u001b[49m\u001b[43mb2D\u001b[49m\n",
      "\u001b[1;31mValueError\u001b[0m: operands could not be broadcast together with shapes (3,9) (5,9) "
     ]
    }
   ],
   "source": [
    "# O operador \"+\" aplicado a ndarrays não faz a concatenação, mas tentar somar elemento a elemento\n",
    "a2D + b2D"
   ]
  },
  {
   "cell_type": "code",
   "execution_count": 110,
   "metadata": {
    "collapsed": true
   },
   "outputs": [
    {
     "name": "stdout",
     "output_type": "stream",
     "text": [
      "a2D\n",
      "[[21 21 89 46 74 77 41 35 40]\n",
      " [38 21 79  1 30 13 34 18 22]\n",
      " [52 23 66 35 26 31 78 69 84]]\n",
      "\n",
      "b2D\n",
      "[[83 42 21 84 14 14  5 44 69]\n",
      " [84 53 88 91  3 64 31 13 22]\n",
      " [13 46 14 36 58 63 27 53 41]\n",
      " [84 28  1  5 17 18 99  8 49]\n",
      " [84 78 18 83 75 69 29 90 49]]\n",
      "\n",
      "Concatenação\n",
      "[[21 21 89 46 74 77 41 35 40]\n",
      " [38 21 79  1 30 13 34 18 22]\n",
      " [52 23 66 35 26 31 78 69 84]\n",
      " [83 42 21 84 14 14  5 44 69]\n",
      " [84 53 88 91  3 64 31 13 22]\n",
      " [13 46 14 36 58 63 27 53 41]\n",
      " [84 28  1  5 17 18 99  8 49]\n",
      " [84 78 18 83 75 69 29 90 49]]\n"
     ]
    }
   ],
   "source": [
    "A = np.concatenate((a2D, b2D), axis = 0) # Concatenando pelo eixo das colunas (eixo 0) (empilhamento vertical) \n",
    "print(\"a2D\")\n",
    "print(a2D)\n",
    "print(\"\")\n",
    "print(\"b2D\")\n",
    "print(b2D)\n",
    "print(\"\")\n",
    "print(\"Concatenação\")\n",
    "print(A)"
   ]
  },
  {
   "cell_type": "code",
   "execution_count": 111,
   "metadata": {
    "collapsed": true
   },
   "outputs": [
    {
     "name": "stdout",
     "output_type": "stream",
     "text": [
      "a2D\n",
      "[[21 21 89 46 74 77 41 35 40]\n",
      " [38 21 79  1 30 13 34 18 22]\n",
      " [52 23 66 35 26 31 78 69 84]]\n",
      "\n",
      "b2D\n",
      "[[83 42 21 84 14 14  5 44 69]\n",
      " [84 53 88 91  3 64 31 13 22]\n",
      " [13 46 14 36 58 63 27 53 41]\n",
      " [84 28  1  5 17 18 99  8 49]\n",
      " [84 78 18 83 75 69 29 90 49]]\n",
      "\n",
      "Concatenação\n",
      "[[21 21 89 46 74 77 41 35 40]\n",
      " [38 21 79  1 30 13 34 18 22]\n",
      " [52 23 66 35 26 31 78 69 84]\n",
      " [83 42 21 84 14 14  5 44 69]\n",
      " [84 53 88 91  3 64 31 13 22]\n",
      " [13 46 14 36 58 63 27 53 41]\n",
      " [84 28  1  5 17 18 99  8 49]\n",
      " [84 78 18 83 75 69 29 90 49]]\n"
     ]
    }
   ],
   "source": [
    "B = np.vstack((a2D, b2D)) # Concatenando pelo eixo das colunas (eixo 0) (empilhamento vertical) \n",
    "print(\"a2D\")\n",
    "print(a2D)\n",
    "print(\"\")\n",
    "print(\"b2D\")\n",
    "print(b2D)\n",
    "print(\"\")\n",
    "print(\"Concatenação\")\n",
    "print(B)"
   ]
  },
  {
   "cell_type": "code",
   "execution_count": 112,
   "metadata": {
    "collapsed": true
   },
   "outputs": [
    {
     "name": "stdout",
     "output_type": "stream",
     "text": [
      "b2D\n",
      "[[83 42 21 84 14 14  5 44 69]\n",
      " [84 53 88 91  3 64 31 13 22]\n",
      " [13 46 14 36 58 63 27 53 41]\n",
      " [84 28  1  5 17 18 99  8 49]\n",
      " [84 78 18 83 75 69 29 90 49]]\n",
      "\n",
      "c2D\n",
      "[[ 81  68  61  75]\n",
      " [  7  28  39   3]\n",
      " [  6  99  54  44]\n",
      " [100  81  80  48]\n",
      " [ 73  51  67  28]]\n",
      "\n",
      "Concatenação\n",
      "[[ 83  42  21  84  14  14   5  44  69  81  68  61  75]\n",
      " [ 84  53  88  91   3  64  31  13  22   7  28  39   3]\n",
      " [ 13  46  14  36  58  63  27  53  41   6  99  54  44]\n",
      " [ 84  28   1   5  17  18  99   8  49 100  81  80  48]\n",
      " [ 84  78  18  83  75  69  29  90  49  73  51  67  28]]\n"
     ]
    }
   ],
   "source": [
    "C = np.concatenate((b2D, c2D), axis = 1) # Concatenando pelo eixo das linhas (eixo 1) (empilhamento horizontal) \n",
    "print(\"b2D\")\n",
    "print(b2D)\n",
    "print(\"\")\n",
    "print(\"c2D\")\n",
    "print(c2D)\n",
    "print(\"\")\n",
    "print(\"Concatenação\")\n",
    "print(C)"
   ]
  },
  {
   "cell_type": "code",
   "execution_count": 113,
   "metadata": {
    "collapsed": true
   },
   "outputs": [
    {
     "name": "stdout",
     "output_type": "stream",
     "text": [
      "b2D\n",
      "[[83 42 21 84 14 14  5 44 69]\n",
      " [84 53 88 91  3 64 31 13 22]\n",
      " [13 46 14 36 58 63 27 53 41]\n",
      " [84 28  1  5 17 18 99  8 49]\n",
      " [84 78 18 83 75 69 29 90 49]]\n",
      "\n",
      "c2D\n",
      "[[ 81  68  61  75]\n",
      " [  7  28  39   3]\n",
      " [  6  99  54  44]\n",
      " [100  81  80  48]\n",
      " [ 73  51  67  28]]\n",
      "\n",
      "Concatenação\n",
      "[[ 83  42  21  84  14  14   5  44  69  81  68  61  75]\n",
      " [ 84  53  88  91   3  64  31  13  22   7  28  39   3]\n",
      " [ 13  46  14  36  58  63  27  53  41   6  99  54  44]\n",
      " [ 84  28   1   5  17  18  99   8  49 100  81  80  48]\n",
      " [ 84  78  18  83  75  69  29  90  49  73  51  67  28]]\n"
     ]
    }
   ],
   "source": [
    "D = np.hstack((b2D, c2D)) # Concatenando pelo eixo das linhas (eixo 1) (empilhamento horizontal) \n",
    "print(\"b2D\")\n",
    "print(b2D)\n",
    "print(\"\")\n",
    "print(\"c2D\")\n",
    "print(c2D)\n",
    "print(\"\")\n",
    "print(\"Concatenação\")\n",
    "print(D)"
   ]
  },
  {
   "cell_type": "markdown",
   "metadata": {},
   "source": [
    "### Dividindo arrays"
   ]
  },
  {
   "cell_type": "code",
   "execution_count": 114,
   "metadata": {
    "collapsed": true
   },
   "outputs": [
    {
     "name": "stdout",
     "output_type": "stream",
     "text": [
      "Array original\n",
      "[[21 21 89 46 74 77 41 35 40]\n",
      " [38 21 79  1 30 13 34 18 22]\n",
      " [52 23 66 35 26 31 78 69 84]\n",
      " [83 42 21 84 14 14  5 44 69]\n",
      " [84 53 88 91  3 64 31 13 22]\n",
      " [13 46 14 36 58 63 27 53 41]\n",
      " [84 28  1  5 17 18 99  8 49]\n",
      " [84 78 18 83 75 69 29 90 49]]\n",
      "\n",
      "1a parte\n",
      "[[21 21 89 46 74 77 41 35 40]\n",
      " [38 21 79  1 30 13 34 18 22]\n",
      " [52 23 66 35 26 31 78 69 84]\n",
      " [83 42 21 84 14 14  5 44 69]]\n",
      "\n",
      "2a parte\n",
      "[[84 53 88 91  3 64 31 13 22]\n",
      " [13 46 14 36 58 63 27 53 41]\n",
      " [84 28  1  5 17 18 99  8 49]\n",
      " [84 78 18 83 75 69 29 90 49]]\n"
     ]
    }
   ],
   "source": [
    "A_splitted = np.vsplit(A,2) # Divisáo vertical (corta no sentido das colunas)\n",
    "print(\"Array original\")\n",
    "print(A)\n",
    "print(\"\")\n",
    "print(\"1a parte\")\n",
    "print(A_splitted[0])\n",
    "print(\"\")\n",
    "print(\"2a parte\")\n",
    "print(A_splitted[1])"
   ]
  },
  {
   "cell_type": "code",
   "execution_count": 115,
   "metadata": {
    "collapsed": true
   },
   "outputs": [
    {
     "name": "stdout",
     "output_type": "stream",
     "text": [
      "Array original\n",
      "[[21 21 89 46 74 77 41 35 40]\n",
      " [38 21 79  1 30 13 34 18 22]\n",
      " [52 23 66 35 26 31 78 69 84]\n",
      " [83 42 21 84 14 14  5 44 69]\n",
      " [84 53 88 91  3 64 31 13 22]\n",
      " [13 46 14 36 58 63 27 53 41]\n",
      " [84 28  1  5 17 18 99  8 49]\n",
      " [84 78 18 83 75 69 29 90 49]]\n",
      "\n",
      "1a parte\n",
      "[[21 21 89]\n",
      " [38 21 79]\n",
      " [52 23 66]\n",
      " [83 42 21]\n",
      " [84 53 88]\n",
      " [13 46 14]\n",
      " [84 28  1]\n",
      " [84 78 18]]\n",
      "\n",
      "2a parte\n",
      "[[46 74 77]\n",
      " [ 1 30 13]\n",
      " [35 26 31]\n",
      " [84 14 14]\n",
      " [91  3 64]\n",
      " [36 58 63]\n",
      " [ 5 17 18]\n",
      " [83 75 69]]\n",
      "\n",
      "3a parte\n",
      "[[41 35 40]\n",
      " [34 18 22]\n",
      " [78 69 84]\n",
      " [ 5 44 69]\n",
      " [31 13 22]\n",
      " [27 53 41]\n",
      " [99  8 49]\n",
      " [29 90 49]]\n"
     ]
    }
   ],
   "source": [
    "A_splitted3 = np.hsplit(A,3) # Divisão horizontal (corta no sentido das linhas)\n",
    "print(\"Array original\")\n",
    "print(A)\n",
    "print(\"\")\n",
    "print(\"1a parte\")\n",
    "print(A_splitted3[0])\n",
    "print(\"\")\n",
    "print(\"2a parte\")\n",
    "print(A_splitted3[1])\n",
    "print(\"\")\n",
    "print(\"3a parte\")\n",
    "print(A_splitted3[2])"
   ]
  },
  {
   "cell_type": "code",
   "execution_count": null,
   "metadata": {
    "collapsed": true
   },
   "outputs": [],
   "source": []
  }
 ],
 "metadata": {
  "kernelspec": {
   "display_name": "Python 3",
   "language": "python",
   "name": "python3"
  },
  "language_info": {
   "codemirror_mode": {
    "name": "ipython",
    "version": 3
   },
   "file_extension": ".py",
   "mimetype": "text/x-python",
   "name": "python",
   "nbconvert_exporter": "python",
   "pygments_lexer": "ipython3",
   "version": "3.13.0"
  }
 },
 "nbformat": 4,
 "nbformat_minor": 2
}
