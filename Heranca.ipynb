{
 "cells": [
  {
   "cell_type": "code",
   "execution_count": 6,
   "metadata": {},
   "outputs": [],
   "source": [
    "class carro:\n",
    "    def __init__(self, marca, modelo, ano):\n",
    "        self.marca = marca\n",
    "        self.modelo = modelo\n",
    "        self.ano = ano\n",
    "        self.odometro = 0\n",
    "    def descricao(self):\n",
    "        print(f\"{self.marca} {self.modelo} {self.ano}\")\n",
    "    def leitura_odometro(self):\n",
    "        print(f\"Este carro tem {self.odometro} KM rodados.\")\n",
    "    def atualiza_odometro(self, km):\n",
    "        if km >= self.odometro:\n",
    "            self.odometro = km\n",
    "        else:\n",
    "            print(\"Voce não pode diminuir o odometro.\")"
   ]
  },
  {
   "cell_type": "code",
   "execution_count": 7,
   "metadata": {},
   "outputs": [],
   "source": [
    "# Criando uma classe carro elétrico que herdará da classe carro\n",
    "class CarroEletrico(carro):\n",
    "    def __init__(self, marca, modelo, ano):\n",
    "        super().__init__(marca, modelo, ano)\n",
    "        self.bateria = 70\n",
    "    def descricao_bateria(self):\n",
    "        print(f\"Este carro tem uma bateria de {self.bateria} KWh.\")\n",
    "    def atualiza_bateria(self, bateria):\n",
    "        self.bateria = bateria"
   ]
  },
  {
   "cell_type": "code",
   "execution_count": 10,
   "metadata": {},
   "outputs": [
    {
     "name": "stdout",
     "output_type": "stream",
     "text": [
      "Tesla Model S 2019\n",
      "None\n",
      "Este carro tem uma bateria de 70 KWh.\n",
      "None\n",
      "Este carro tem uma bateria de 85 KWh.\n",
      "None\n",
      "Este carro tem 50 KM rodados.\n",
      "None\n",
      "Voce não pode diminuir o odometro.\n",
      "Este carro tem 50 KM rodados.\n",
      "None\n",
      "Este carro tem 100 KM rodados.\n",
      "None\n"
     ]
    }
   ],
   "source": [
    "# Instanciando um objeto da classe CarroEletrico\n",
    "meu_tesla = CarroEletrico(\"Tesla\", \"Model S\", 2019)\n",
    "print(meu_tesla.descricao())\n",
    "print(meu_tesla.descricao_bateria())\n",
    "meu_tesla.atualiza_bateria(85)\n",
    "print(meu_tesla.descricao_bateria())\n",
    "meu_tesla.atualiza_odometro(50)\n",
    "print(meu_tesla.leitura_odometro())\n",
    "meu_tesla.atualiza_odometro(40)\n",
    "print(meu_tesla.leitura_odometro())\n",
    "meu_tesla.atualiza_odometro(100)\n",
    "print(meu_tesla.leitura_odometro())"
   ]
  },
  {
   "cell_type": "code",
   "execution_count": 11,
   "metadata": {},
   "outputs": [],
   "source": [
    "# Substituindo o método atualiza_odometro da classe carro (pai)\n",
    "class CarroEletrico(carro):\n",
    "    def __init__(self, marca, modelo, ano):\n",
    "        super().__init__(marca, modelo, ano)\n",
    "        self.bateria = 70\n",
    "    def descricao_bateria(self):\n",
    "        print(f\"Este carro tem uma bateria de {self.bateria} KWh.\")\n",
    "    def atualiza_bateria(self, bateria):\n",
    "        self.bateria = bateria\n",
    "    def atualiza_odometro(self, km):\n",
    "        print(\"Você não pode atualizar o odometro de um carro elétrico.\")"
   ]
  }
 ],
 "metadata": {
  "kernelspec": {
   "display_name": "Python 3",
   "language": "python",
   "name": "python3"
  },
  "language_info": {
   "codemirror_mode": {
    "name": "ipython",
    "version": 3
   },
   "file_extension": ".py",
   "mimetype": "text/x-python",
   "name": "python",
   "nbconvert_exporter": "python",
   "pygments_lexer": "ipython3",
   "version": "3.13.0"
  }
 },
 "nbformat": 4,
 "nbformat_minor": 2
}
