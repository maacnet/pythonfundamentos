{
 "cells": [
  {
   "cell_type": "code",
   "execution_count": 4,
   "metadata": {},
   "outputs": [
    {
     "name": "stdout",
     "output_type": "stream",
     "text": [
      "3.1415926535\n",
      "  8979323846\n",
      "  2643383279\n"
     ]
    }
   ],
   "source": [
    "# importando a biblioteca Path do módulo pathlib e lendo o conteúdo do arquivo pi_digitos.txt\n",
    "from pathlib import Path\n",
    "path = Path('pi_digitos.txt')\n",
    "conteudo = path.read_text()\n",
    "print(conteudo)"
   ]
  },
  {
   "cell_type": "code",
   "execution_count": 7,
   "metadata": {},
   "outputs": [
    {
     "name": "stdout",
     "output_type": "stream",
     "text": [
      "3.1415926535\n",
      "  8979323846\n",
      "  2643383279\n"
     ]
    }
   ],
   "source": [
    "#Splitlines\n",
    "# O método splitlines() divide uma string em uma lista de strings. Ele usa o caractere de nova linha (\\n) como separador.\n",
    "linha = conteudo.splitlines()\n",
    "for l in linha:\n",
    "    print(l)\n"
   ]
  },
  {
   "cell_type": "code",
   "execution_count": 8,
   "metadata": {},
   "outputs": [
    {
     "name": "stdout",
     "output_type": "stream",
     "text": [
      "3.1415926535  8979323846  2643383279\n",
      "36\n"
     ]
    }
   ],
   "source": [
    "pi_string = ''\n",
    "for l in linha:\n",
    "    pi_string += l\n",
    "\n",
    "print(pi_string)\n",
    "print(len(pi_string))"
   ]
  },
  {
   "cell_type": "code",
   "execution_count": 12,
   "metadata": {},
   "outputs": [
    {
     "name": "stdout",
     "output_type": "stream",
     "text": [
      "3.141592653589793238462643383279\n",
      "32\n"
     ]
    }
   ],
   "source": [
    "# lstrip() e rstrip()\n",
    "# O método lstrip() remove os espaços em branco do lado esquerdo de uma string.\n",
    "# O método rstrip() remove os espaços em branco do lado direito de uma string.\n",
    "\n",
    "pi_string = ''\n",
    "for l in linha:\n",
    "    pi_string += l.lstrip().rstrip()\n",
    "\n",
    "print(pi_string)\n",
    "print(len(pi_string))"
   ]
  },
  {
   "cell_type": "code",
   "execution_count": 13,
   "metadata": {},
   "outputs": [
    {
     "name": "stdout",
     "output_type": "stream",
     "text": [
      "Collecting mpmath\n",
      "  Downloading mpmath-1.3.0-py3-none-any.whl.metadata (8.6 kB)\n",
      "Downloading mpmath-1.3.0-py3-none-any.whl (536 kB)\n",
      "   ---------------------------------------- 0.0/536.2 kB ? eta -:--:--\n",
      "   --------------------------------------- 536.2/536.2 kB 23.0 MB/s eta 0:00:00\n",
      "Installing collected packages: mpmath\n",
      "Successfully installed mpmath-1.3.0\n",
      "Note: you may need to restart the kernel to use updated packages.\n"
     ]
    }
   ],
   "source": [
    "# Gerando um arquivo com 1 milhão de dígitos de PI\n",
    "%pip install mpmath\n",
    "from mpmath import mp\n",
    "\n",
    "# Configura o número de dígitos de precisão\n",
    "mp.dps = 1000001  # 1 milhão de dígitos + 1 para o \"3.\"\n",
    "\n",
    "# Obtém o valor de PI\n",
    "pi = mp.pi\n",
    "\n",
    "# Converte o valor de PI para string e remove o \"3.\"\n",
    "pi_str = str(pi)[2:]\n",
    "\n",
    "# Salva o valor de PI em um arquivo de texto\n",
    "with open('pi_milhao_digitos.txt', 'w') as f:\n",
    "    f.write(pi_str)\n"
   ]
  },
  {
   "cell_type": "code",
   "execution_count": 14,
   "metadata": {},
   "outputs": [
    {
     "name": "stdout",
     "output_type": "stream",
     "text": [
      "1415926535897932384626433832795028841971693993751058...\n",
      "1000000\n"
     ]
    }
   ],
   "source": [
    "from pathlib import Path\n",
    "\n",
    "path = Path('pi_milhao_digitos.txt')\n",
    "contents = path.read_text()\n",
    "\n",
    "lines = contents.splitlines()\n",
    "pi_string = ''\n",
    "for line in lines:\n",
    "    pi_string += line.lstrip()\n",
    "\n",
    "print(f\"{pi_string[:52]}...\")\n",
    "print(len(pi_string))"
   ]
  },
  {
   "cell_type": "code",
   "execution_count": null,
   "metadata": {},
   "outputs": [
    {
     "data": {
      "text/plain": [
       "13"
      ]
     },
     "execution_count": 15,
     "metadata": {},
     "output_type": "execute_result"
    }
   ],
   "source": [
    "#Escrevendo uma única linha em um arquivo método write_text()\n",
    "\n",
    "from pathlib import Path\n",
    "\n",
    "path = Path('codar.txt')\n",
    "path.write_text(\"Eu amo codar.\")"
   ]
  },
  {
   "cell_type": "code",
   "execution_count": null,
   "metadata": {},
   "outputs": [
    {
     "data": {
      "text/plain": [
       "79"
      ]
     },
     "execution_count": 17,
     "metadata": {},
     "output_type": "execute_result"
    }
   ],
   "source": [
    "# Escreveno várias linhas em um arquivo método write_text()\n",
    "# Se o arquivo já existir, o Python o substituirá pelo novo conteúdo.\n",
    "\n",
    "from pathlib import Path\n",
    "\n",
    "contents = \"Eu amo programar.\\n\"\n",
    "contents += \"Eu amo criar novos jogos.\\n\"\n",
    "contents += \"Eu também amo trabalhar com dados.\\n\"\n",
    "\n",
    "path = Path('programming.txt')\n",
    "path.write_text(contents)"
   ]
  }
 ],
 "metadata": {
  "kernelspec": {
   "display_name": "Python 3",
   "language": "python",
   "name": "python3"
  },
  "language_info": {
   "codemirror_mode": {
    "name": "ipython",
    "version": 3
   },
   "file_extension": ".py",
   "mimetype": "text/x-python",
   "name": "python",
   "nbconvert_exporter": "python",
   "pygments_lexer": "ipython3",
   "version": "3.13.0"
  }
 },
 "nbformat": 4,
 "nbformat_minor": 2
}
